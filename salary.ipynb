{
 "cells": [
  {
   "cell_type": "markdown",
   "metadata": {},
   "source": [
    "## SALARY CALCULATION"
   ]
  },
  {
   "cell_type": "code",
   "execution_count": null,
   "metadata": {},
   "outputs": [],
   "source": []
  },
  {
   "cell_type": "code",
   "execution_count": 1,
   "metadata": {},
   "outputs": [
    {
     "data": {
      "text/plain": [
       "salary (generic function with 1 method)"
      ]
     },
     "execution_count": 1,
     "metadata": {},
     "output_type": "execute_result"
    }
   ],
   "source": [
    "function salary(yearsOfExperience)\n",
    "    return 1794.9*yearsOfExperience + 71532.0\n",
    "end\n",
    "    \n",
    "    "
   ]
  },
  {
   "cell_type": "code",
   "execution_count": 11,
   "metadata": {},
   "outputs": [
    {
     "data": {
      "text/plain": [
       "75121.8"
      ]
     },
     "execution_count": 11,
     "metadata": {},
     "output_type": "execute_result"
    }
   ],
   "source": [
    "salary(2.0)"
   ]
  },
  {
   "cell_type": "code",
   "execution_count": 10,
   "metadata": {},
   "outputs": [
    {
     "data": {
      "text/plain": [
       "89481.0"
      ]
     },
     "execution_count": 10,
     "metadata": {},
     "output_type": "execute_result"
    }
   ],
   "source": [
    "salary(10.0)"
   ]
  },
  {
   "cell_type": "code",
   "execution_count": null,
   "metadata": {},
   "outputs": [],
   "source": []
  },
  {
   "cell_type": "code",
   "execution_count": null,
   "metadata": {},
   "outputs": [],
   "source": []
  },
  {
   "cell_type": "code",
   "execution_count": 4,
   "metadata": {},
   "outputs": [
    {
     "data": {
      "text/plain": [
       "87112.7"
      ]
     },
     "execution_count": 4,
     "metadata": {},
     "output_type": "execute_result"
    }
   ],
   "source": [
    "salary(9.0)"
   ]
  },
  {
   "cell_type": "code",
   "execution_count": 5,
   "metadata": {},
   "outputs": [
    {
     "ename": "LoadError",
     "evalue": "UndefVarError: @manipulate not defined",
     "output_type": "error",
     "traceback": [
      "UndefVarError: @manipulate not defined",
      ""
     ]
    }
   ],
   "source": [
    "@manipulate for yearsofexp  in 0:25\n",
    "    salary(yearsofexp)\n",
    "end\n"
   ]
  },
  {
   "cell_type": "code",
   "execution_count": 6,
   "metadata": {},
   "outputs": [
    {
     "data": {
      "text/plain": [
       "102619.25"
      ]
     },
     "execution_count": 6,
     "metadata": {},
     "output_type": "execute_result"
    }
   ],
   "source": [
    "salary(17.5)"
   ]
  },
  {
   "cell_type": "code",
   "execution_count": null,
   "metadata": {},
   "outputs": [],
   "source": []
  },
  {
   "cell_type": "code",
   "execution_count": 1,
   "metadata": {},
   "outputs": [],
   "source": [
    "material_handling_exp = Dict(\"Rachit\"=>9.2, \"Eric Puente\" => 7.8, \"Randy Crawford\" => 7.2, \"Ethan Reinhardt\" => 7.01, \"Alex Salinas\" => 5.06, \"Po-Jen\" => 0.6, \"Sruthi\" => 0.6, \"Julian\" => 0.0, \"Jason\" => 0.0, \"Aaron\" => 0.0, \"Ricky\" => 2.5, \"Avery\" => 2.5, \"Matt\" => 0.0, \"Julita\" => 0.0, \"Dawood\" => 2.5, \"Mohammed Khan\" => 0.0); # years of material handling exp"
   ]
  },
  {
   "cell_type": "code",
   "execution_count": 2,
   "metadata": {},
   "outputs": [],
   "source": [
    "using Plots"
   ]
  },
  {
   "cell_type": "code",
   "execution_count": 3,
   "metadata": {},
   "outputs": [
    {
     "data": {
      "image/svg+xml": [
       "<?xml version=\"1.0\" encoding=\"utf-8\"?>\n",
       "<svg xmlns=\"http://www.w3.org/2000/svg\" xmlns:xlink=\"http://www.w3.org/1999/xlink\" width=\"600\" height=\"400\" viewBox=\"0 0 2400 1600\">\n",
       "<defs>\n",
       "  <clipPath id=\"clip270\">\n",
       "    <rect x=\"0\" y=\"0\" width=\"2400\" height=\"1600\"/>\n",
       "  </clipPath>\n",
       "</defs>\n",
       "<path clip-path=\"url(#clip270)\" d=\"\n",
       "M0 1600 L2400 1600 L2400 0 L0 0  Z\n",
       "  \" fill=\"#ffffff\" fill-rule=\"evenodd\" fill-opacity=\"1\"/>\n",
       "<defs>\n",
       "  <clipPath id=\"clip271\">\n",
       "    <rect x=\"480\" y=\"0\" width=\"1681\" height=\"1600\"/>\n",
       "  </clipPath>\n",
       "</defs>\n",
       "<path clip-path=\"url(#clip270)\" d=\"\n",
       "M112.177 1486.45 L2352.76 1486.45 L2352.76 47.2441 L112.177 47.2441  Z\n",
       "  \" fill=\"#ffffff\" fill-rule=\"evenodd\" fill-opacity=\"1\"/>\n",
       "<defs>\n",
       "  <clipPath id=\"clip272\">\n",
       "    <rect x=\"112\" y=\"47\" width=\"2242\" height=\"1440\"/>\n",
       "  </clipPath>\n",
       "</defs>\n",
       "<polyline clip-path=\"url(#clip272)\" style=\"stroke:#000000; stroke-width:2; stroke-opacity:0.1; fill:none\" points=\"\n",
       "  235.413,1486.45 235.413,47.2441 \n",
       "  \"/>\n",
       "<polyline clip-path=\"url(#clip272)\" style=\"stroke:#000000; stroke-width:2; stroke-opacity:0.1; fill:none\" points=\"\n",
       "  733.94,1486.45 733.94,47.2441 \n",
       "  \"/>\n",
       "<polyline clip-path=\"url(#clip272)\" style=\"stroke:#000000; stroke-width:2; stroke-opacity:0.1; fill:none\" points=\"\n",
       "  1232.47,1486.45 1232.47,47.2441 \n",
       "  \"/>\n",
       "<polyline clip-path=\"url(#clip272)\" style=\"stroke:#000000; stroke-width:2; stroke-opacity:0.1; fill:none\" points=\"\n",
       "  1730.99,1486.45 1730.99,47.2441 \n",
       "  \"/>\n",
       "<polyline clip-path=\"url(#clip272)\" style=\"stroke:#000000; stroke-width:2; stroke-opacity:0.1; fill:none\" points=\"\n",
       "  2229.52,1486.45 2229.52,47.2441 \n",
       "  \"/>\n",
       "<polyline clip-path=\"url(#clip272)\" style=\"stroke:#000000; stroke-width:2; stroke-opacity:0.1; fill:none\" points=\"\n",
       "  112.177,1445.72 2352.76,1445.72 \n",
       "  \"/>\n",
       "<polyline clip-path=\"url(#clip272)\" style=\"stroke:#000000; stroke-width:2; stroke-opacity:0.1; fill:none\" points=\"\n",
       "  112.177,1106.28 2352.76,1106.28 \n",
       "  \"/>\n",
       "<polyline clip-path=\"url(#clip272)\" style=\"stroke:#000000; stroke-width:2; stroke-opacity:0.1; fill:none\" points=\"\n",
       "  112.177,766.846 2352.76,766.846 \n",
       "  \"/>\n",
       "<polyline clip-path=\"url(#clip272)\" style=\"stroke:#000000; stroke-width:2; stroke-opacity:0.1; fill:none\" points=\"\n",
       "  112.177,427.411 2352.76,427.411 \n",
       "  \"/>\n",
       "<polyline clip-path=\"url(#clip272)\" style=\"stroke:#000000; stroke-width:2; stroke-opacity:0.1; fill:none\" points=\"\n",
       "  112.177,87.9763 2352.76,87.9763 \n",
       "  \"/>\n",
       "<polyline clip-path=\"url(#clip270)\" style=\"stroke:#000000; stroke-width:4; stroke-opacity:1; fill:none\" points=\"\n",
       "  112.177,1486.45 2352.76,1486.45 \n",
       "  \"/>\n",
       "<polyline clip-path=\"url(#clip270)\" style=\"stroke:#000000; stroke-width:4; stroke-opacity:1; fill:none\" points=\"\n",
       "  112.177,1486.45 112.177,47.2441 \n",
       "  \"/>\n",
       "<polyline clip-path=\"url(#clip270)\" style=\"stroke:#000000; stroke-width:4; stroke-opacity:1; fill:none\" points=\"\n",
       "  235.413,1486.45 235.413,1469.18 \n",
       "  \"/>\n",
       "<polyline clip-path=\"url(#clip270)\" style=\"stroke:#000000; stroke-width:4; stroke-opacity:1; fill:none\" points=\"\n",
       "  733.94,1486.45 733.94,1469.18 \n",
       "  \"/>\n",
       "<polyline clip-path=\"url(#clip270)\" style=\"stroke:#000000; stroke-width:4; stroke-opacity:1; fill:none\" points=\"\n",
       "  1232.47,1486.45 1232.47,1469.18 \n",
       "  \"/>\n",
       "<polyline clip-path=\"url(#clip270)\" style=\"stroke:#000000; stroke-width:4; stroke-opacity:1; fill:none\" points=\"\n",
       "  1730.99,1486.45 1730.99,1469.18 \n",
       "  \"/>\n",
       "<polyline clip-path=\"url(#clip270)\" style=\"stroke:#000000; stroke-width:4; stroke-opacity:1; fill:none\" points=\"\n",
       "  2229.52,1486.45 2229.52,1469.18 \n",
       "  \"/>\n",
       "<polyline clip-path=\"url(#clip270)\" style=\"stroke:#000000; stroke-width:4; stroke-opacity:1; fill:none\" points=\"\n",
       "  112.177,1445.72 139.064,1445.72 \n",
       "  \"/>\n",
       "<polyline clip-path=\"url(#clip270)\" style=\"stroke:#000000; stroke-width:4; stroke-opacity:1; fill:none\" points=\"\n",
       "  112.177,1106.28 139.064,1106.28 \n",
       "  \"/>\n",
       "<polyline clip-path=\"url(#clip270)\" style=\"stroke:#000000; stroke-width:4; stroke-opacity:1; fill:none\" points=\"\n",
       "  112.177,766.846 139.064,766.846 \n",
       "  \"/>\n",
       "<polyline clip-path=\"url(#clip270)\" style=\"stroke:#000000; stroke-width:4; stroke-opacity:1; fill:none\" points=\"\n",
       "  112.177,427.411 139.064,427.411 \n",
       "  \"/>\n",
       "<polyline clip-path=\"url(#clip270)\" style=\"stroke:#000000; stroke-width:4; stroke-opacity:1; fill:none\" points=\"\n",
       "  112.177,87.9763 139.064,87.9763 \n",
       "  \"/>\n",
       "<path clip-path=\"url(#clip270)\" d=\"M 0 0 M216.929 1508.44 Q213.318 1508.44 211.49 1512 Q209.684 1515.55 209.684 1522.67 Q209.684 1529.78 211.49 1533.35 Q213.318 1536.89 216.929 1536.89 Q220.564 1536.89 222.369 1533.35 Q224.198 1529.78 224.198 1522.67 Q224.198 1515.55 222.369 1512 Q220.564 1508.44 216.929 1508.44 M216.929 1504.73 Q222.739 1504.73 225.795 1509.34 Q228.874 1513.92 228.874 1522.67 Q228.874 1531.4 225.795 1536.01 Q222.739 1540.59 216.929 1540.59 Q211.119 1540.59 208.04 1536.01 Q204.985 1531.4 204.985 1522.67 Q204.985 1513.92 208.04 1509.34 Q211.119 1504.73 216.929 1504.73 Z\" fill=\"#000000\" fill-rule=\"evenodd\" fill-opacity=\"1\" /><path clip-path=\"url(#clip270)\" d=\"M 0 0 M233.943 1534.04 L238.827 1534.04 L238.827 1539.92 L233.943 1539.92 L233.943 1534.04 Z\" fill=\"#000000\" fill-rule=\"evenodd\" fill-opacity=\"1\" /><path clip-path=\"url(#clip270)\" d=\"M 0 0 M253.897 1508.44 Q250.286 1508.44 248.457 1512 Q246.651 1515.55 246.651 1522.67 Q246.651 1529.78 248.457 1533.35 Q250.286 1536.89 253.897 1536.89 Q257.531 1536.89 259.336 1533.35 Q261.165 1529.78 261.165 1522.67 Q261.165 1515.55 259.336 1512 Q257.531 1508.44 253.897 1508.44 M253.897 1504.73 Q259.707 1504.73 262.762 1509.34 Q265.841 1513.92 265.841 1522.67 Q265.841 1531.4 262.762 1536.01 Q259.707 1540.59 253.897 1540.59 Q248.087 1540.59 245.008 1536.01 Q241.952 1531.4 241.952 1522.67 Q241.952 1513.92 245.008 1509.34 Q248.087 1504.73 253.897 1504.73 Z\" fill=\"#000000\" fill-rule=\"evenodd\" fill-opacity=\"1\" /><path clip-path=\"url(#clip270)\" d=\"M 0 0 M710.607 1535.98 L726.926 1535.98 L726.926 1539.92 L704.982 1539.92 L704.982 1535.98 Q707.644 1533.23 712.227 1528.6 Q716.833 1523.95 718.014 1522.61 Q720.259 1520.08 721.139 1518.35 Q722.042 1516.59 722.042 1514.9 Q722.042 1512.14 720.097 1510.41 Q718.176 1508.67 715.074 1508.67 Q712.875 1508.67 710.421 1509.43 Q707.991 1510.2 705.213 1511.75 L705.213 1507.03 Q708.037 1505.89 710.491 1505.31 Q712.945 1504.73 714.982 1504.73 Q720.352 1504.73 723.546 1507.42 Q726.741 1510.11 726.741 1514.6 Q726.741 1516.73 725.931 1518.65 Q725.144 1520.54 723.037 1523.14 Q722.458 1523.81 719.357 1527.03 Q716.255 1530.22 710.607 1535.98 Z\" fill=\"#000000\" fill-rule=\"evenodd\" fill-opacity=\"1\" /><path clip-path=\"url(#clip270)\" d=\"M 0 0 M731.995 1534.04 L736.88 1534.04 L736.88 1539.92 L731.995 1539.92 L731.995 1534.04 Z\" fill=\"#000000\" fill-rule=\"evenodd\" fill-opacity=\"1\" /><path clip-path=\"url(#clip270)\" d=\"M 0 0 M741.995 1505.36 L760.352 1505.36 L760.352 1509.3 L746.278 1509.3 L746.278 1517.77 Q747.296 1517.42 748.315 1517.26 Q749.333 1517.07 750.352 1517.07 Q756.139 1517.07 759.518 1520.24 Q762.898 1523.42 762.898 1528.83 Q762.898 1534.41 759.426 1537.51 Q755.954 1540.59 749.634 1540.59 Q747.458 1540.59 745.19 1540.22 Q742.944 1539.85 740.537 1539.11 L740.537 1534.41 Q742.62 1535.54 744.842 1536.1 Q747.065 1536.66 749.542 1536.66 Q753.546 1536.66 755.884 1534.55 Q758.222 1532.44 758.222 1528.83 Q758.222 1525.22 755.884 1523.11 Q753.546 1521.01 749.542 1521.01 Q747.667 1521.01 745.792 1521.42 Q743.94 1521.84 741.995 1522.72 L741.995 1505.36 Z\" fill=\"#000000\" fill-rule=\"evenodd\" fill-opacity=\"1\" /><path clip-path=\"url(#clip270)\" d=\"M 0 0 M1204.26 1505.36 L1222.62 1505.36 L1222.62 1509.3 L1208.54 1509.3 L1208.54 1517.77 Q1209.56 1517.42 1210.58 1517.26 Q1211.6 1517.07 1212.62 1517.07 Q1218.4 1517.07 1221.78 1520.24 Q1225.16 1523.42 1225.16 1528.83 Q1225.16 1534.41 1221.69 1537.51 Q1218.22 1540.59 1211.9 1540.59 Q1209.72 1540.59 1207.46 1540.22 Q1205.21 1539.85 1202.8 1539.11 L1202.8 1534.41 Q1204.89 1535.54 1207.11 1536.1 Q1209.33 1536.66 1211.81 1536.66 Q1215.81 1536.66 1218.15 1534.55 Q1220.49 1532.44 1220.49 1528.83 Q1220.49 1525.22 1218.15 1523.11 Q1215.81 1521.01 1211.81 1521.01 Q1209.93 1521.01 1208.06 1521.42 Q1206.21 1521.84 1204.26 1522.72 L1204.26 1505.36 Z\" fill=\"#000000\" fill-rule=\"evenodd\" fill-opacity=\"1\" /><path clip-path=\"url(#clip270)\" d=\"M 0 0 M1230.23 1534.04 L1235.12 1534.04 L1235.12 1539.92 L1230.23 1539.92 L1230.23 1534.04 Z\" fill=\"#000000\" fill-rule=\"evenodd\" fill-opacity=\"1\" /><path clip-path=\"url(#clip270)\" d=\"M 0 0 M1250.19 1508.44 Q1246.58 1508.44 1244.75 1512 Q1242.94 1515.55 1242.94 1522.67 Q1242.94 1529.78 1244.75 1533.35 Q1246.58 1536.89 1250.19 1536.89 Q1253.82 1536.89 1255.63 1533.35 Q1257.45 1529.78 1257.45 1522.67 Q1257.45 1515.55 1255.63 1512 Q1253.82 1508.44 1250.19 1508.44 M1250.19 1504.73 Q1256 1504.73 1259.05 1509.34 Q1262.13 1513.92 1262.13 1522.67 Q1262.13 1531.4 1259.05 1536.01 Q1256 1540.59 1250.19 1540.59 Q1244.38 1540.59 1241.3 1536.01 Q1238.24 1531.4 1238.24 1522.67 Q1238.24 1513.92 1241.3 1509.34 Q1244.38 1504.73 1250.19 1504.73 Z\" fill=\"#000000\" fill-rule=\"evenodd\" fill-opacity=\"1\" /><path clip-path=\"url(#clip270)\" d=\"M 0 0 M1701.9 1505.36 L1724.12 1505.36 L1724.12 1507.35 L1711.57 1539.92 L1706.69 1539.92 L1718.49 1509.3 L1701.9 1509.3 L1701.9 1505.36 Z\" fill=\"#000000\" fill-rule=\"evenodd\" fill-opacity=\"1\" /><path clip-path=\"url(#clip270)\" d=\"M 0 0 M1729.19 1534.04 L1734.07 1534.04 L1734.07 1539.92 L1729.19 1539.92 L1729.19 1534.04 Z\" fill=\"#000000\" fill-rule=\"evenodd\" fill-opacity=\"1\" /><path clip-path=\"url(#clip270)\" d=\"M 0 0 M1739.19 1505.36 L1757.54 1505.36 L1757.54 1509.3 L1743.47 1509.3 L1743.47 1517.77 Q1744.49 1517.42 1745.51 1517.26 Q1746.53 1517.07 1747.54 1517.07 Q1753.33 1517.07 1756.71 1520.24 Q1760.09 1523.42 1760.09 1528.83 Q1760.09 1534.41 1756.62 1537.51 Q1753.15 1540.59 1746.83 1540.59 Q1744.65 1540.59 1742.38 1540.22 Q1740.14 1539.85 1737.73 1539.11 L1737.73 1534.41 Q1739.81 1535.54 1742.03 1536.1 Q1744.26 1536.66 1746.73 1536.66 Q1750.74 1536.66 1753.08 1534.55 Q1755.41 1532.44 1755.41 1528.83 Q1755.41 1525.22 1753.08 1523.11 Q1750.74 1521.01 1746.73 1521.01 Q1744.86 1521.01 1742.98 1521.42 Q1741.13 1521.84 1739.19 1522.72 L1739.19 1505.36 Z\" fill=\"#000000\" fill-rule=\"evenodd\" fill-opacity=\"1\" /><path clip-path=\"url(#clip270)\" d=\"M 0 0 M2187.91 1535.98 L2195.55 1535.98 L2195.55 1509.62 L2187.24 1511.29 L2187.24 1507.03 L2195.5 1505.36 L2200.18 1505.36 L2200.18 1535.98 L2207.82 1535.98 L2207.82 1539.92 L2187.91 1539.92 L2187.91 1535.98 Z\" fill=\"#000000\" fill-rule=\"evenodd\" fill-opacity=\"1\" /><path clip-path=\"url(#clip270)\" d=\"M 0 0 M2222.89 1508.44 Q2219.28 1508.44 2217.45 1512 Q2215.64 1515.55 2215.64 1522.67 Q2215.64 1529.78 2217.45 1533.35 Q2219.28 1536.89 2222.89 1536.89 Q2226.52 1536.89 2228.33 1533.35 Q2230.16 1529.78 2230.16 1522.67 Q2230.16 1515.55 2228.33 1512 Q2226.52 1508.44 2222.89 1508.44 M2222.89 1504.73 Q2228.7 1504.73 2231.75 1509.34 Q2234.83 1513.92 2234.83 1522.67 Q2234.83 1531.4 2231.75 1536.01 Q2228.7 1540.59 2222.89 1540.59 Q2217.08 1540.59 2214 1536.01 Q2210.94 1531.4 2210.94 1522.67 Q2210.94 1513.92 2214 1509.34 Q2217.08 1504.73 2222.89 1504.73 Z\" fill=\"#000000\" fill-rule=\"evenodd\" fill-opacity=\"1\" /><path clip-path=\"url(#clip270)\" d=\"M 0 0 M2239.9 1534.04 L2244.79 1534.04 L2244.79 1539.92 L2239.9 1539.92 L2239.9 1534.04 Z\" fill=\"#000000\" fill-rule=\"evenodd\" fill-opacity=\"1\" /><path clip-path=\"url(#clip270)\" d=\"M 0 0 M2259.86 1508.44 Q2256.24 1508.44 2254.42 1512 Q2252.61 1515.55 2252.61 1522.67 Q2252.61 1529.78 2254.42 1533.35 Q2256.24 1536.89 2259.86 1536.89 Q2263.49 1536.89 2265.3 1533.35 Q2267.12 1529.78 2267.12 1522.67 Q2267.12 1515.55 2265.3 1512 Q2263.49 1508.44 2259.86 1508.44 M2259.86 1504.73 Q2265.67 1504.73 2268.72 1509.34 Q2271.8 1513.92 2271.8 1522.67 Q2271.8 1531.4 2268.72 1536.01 Q2265.67 1540.59 2259.86 1540.59 Q2254.05 1540.59 2250.97 1536.01 Q2247.91 1531.4 2247.91 1522.67 Q2247.91 1513.92 2250.97 1509.34 Q2254.05 1504.73 2259.86 1504.73 Z\" fill=\"#000000\" fill-rule=\"evenodd\" fill-opacity=\"1\" /><path clip-path=\"url(#clip270)\" d=\"M 0 0 M76.2328 1431.51 Q72.6217 1431.51 70.793 1435.08 Q68.9875 1438.62 68.9875 1445.75 Q68.9875 1452.86 70.793 1456.42 Q72.6217 1459.96 76.2328 1459.96 Q79.867 1459.96 81.6726 1456.42 Q83.5013 1452.86 83.5013 1445.75 Q83.5013 1438.62 81.6726 1435.08 Q79.867 1431.51 76.2328 1431.51 M76.2328 1427.81 Q82.0429 1427.81 85.0985 1432.42 Q88.1772 1437 88.1772 1445.75 Q88.1772 1454.48 85.0985 1459.08 Q82.0429 1463.67 76.2328 1463.67 Q70.4226 1463.67 67.344 1459.08 Q64.2884 1454.48 64.2884 1445.75 Q64.2884 1437 67.344 1432.42 Q70.4226 1427.81 76.2328 1427.81 Z\" fill=\"#000000\" fill-rule=\"evenodd\" fill-opacity=\"1\" /><path clip-path=\"url(#clip270)\" d=\"M 0 0 M71.8578 1119.63 L88.1772 1119.63 L88.1772 1123.56 L66.2328 1123.56 L66.2328 1119.63 Q68.8949 1116.87 73.4782 1112.24 Q78.0846 1107.59 79.2652 1106.25 Q81.5105 1103.72 82.3902 1101.99 Q83.2929 1100.23 83.2929 1098.54 Q83.2929 1095.78 81.3485 1094.05 Q79.4272 1092.31 76.3254 1092.31 Q74.1263 1092.31 71.6726 1093.07 Q69.2421 1093.84 66.4643 1095.39 L66.4643 1090.67 Q69.2884 1089.53 71.7421 1088.95 Q74.1958 1088.38 76.2328 1088.38 Q81.6031 1088.38 84.7976 1091.06 Q87.992 1093.75 87.992 1098.24 Q87.992 1100.37 87.1818 1102.29 Q86.3948 1104.19 84.2883 1106.78 Q83.7096 1107.45 80.6078 1110.67 Q77.5059 1113.86 71.8578 1119.63 Z\" fill=\"#000000\" fill-rule=\"evenodd\" fill-opacity=\"1\" /><path clip-path=\"url(#clip270)\" d=\"M 0 0 M78.5939 753.64 L66.7884 772.089 L78.5939 772.089 L78.5939 753.64 M77.367 749.566 L83.2466 749.566 L83.2466 772.089 L88.1772 772.089 L88.1772 775.978 L83.2466 775.978 L83.2466 784.126 L78.5939 784.126 L78.5939 775.978 L62.9921 775.978 L62.9921 771.464 L77.367 749.566 Z\" fill=\"#000000\" fill-rule=\"evenodd\" fill-opacity=\"1\" /><path clip-path=\"url(#clip270)\" d=\"M 0 0 M76.6495 425.548 Q73.5013 425.548 71.6495 427.7 Q69.8208 429.853 69.8208 433.603 Q69.8208 437.33 71.6495 439.506 Q73.5013 441.659 76.6495 441.659 Q79.7976 441.659 81.6263 439.506 Q83.4781 437.33 83.4781 433.603 Q83.4781 429.853 81.6263 427.7 Q79.7976 425.548 76.6495 425.548 M85.9318 410.895 L85.9318 415.154 Q84.1726 414.321 82.367 413.881 Q80.5846 413.441 78.8254 413.441 Q74.1958 413.441 71.7421 416.566 Q69.3115 419.691 68.9643 426.011 Q70.33 423.997 72.3902 422.932 Q74.4504 421.844 76.9272 421.844 Q82.1355 421.844 85.1448 425.015 Q88.1772 428.163 88.1772 433.603 Q88.1772 438.927 85.029 442.145 Q81.8809 445.362 76.6495 445.362 Q70.6541 445.362 67.4828 440.779 Q64.3116 436.173 64.3116 427.446 Q64.3116 419.251 68.2004 414.39 Q72.0893 409.506 78.6402 409.506 Q80.3994 409.506 82.1818 409.853 Q83.9874 410.201 85.9318 410.895 Z\" fill=\"#000000\" fill-rule=\"evenodd\" fill-opacity=\"1\" /><path clip-path=\"url(#clip270)\" d=\"M 0 0 M76.3254 88.8443 Q72.9921 88.8443 71.0708 90.6267 Q69.1726 92.4091 69.1726 95.5341 Q69.1726 98.6591 71.0708 100.441 Q72.9921 102.224 76.3254 102.224 Q79.6587 102.224 81.58 100.441 Q83.5013 98.6359 83.5013 95.5341 Q83.5013 92.4091 81.58 90.6267 Q79.6819 88.8443 76.3254 88.8443 M71.6495 86.8536 Q68.6402 86.1129 66.9504 84.0527 Q65.2838 81.9925 65.2838 79.0296 Q65.2838 74.8861 68.2236 72.4787 Q71.1865 70.0713 76.3254 70.0713 Q81.4874 70.0713 84.4272 72.4787 Q87.367 74.8861 87.367 79.0296 Q87.367 81.9925 85.6772 84.0527 Q84.0105 86.1129 81.0244 86.8536 Q84.404 87.6406 86.279 89.9323 Q88.1772 92.2239 88.1772 95.5341 Q88.1772 100.557 85.0985 103.242 Q82.0429 105.928 76.3254 105.928 Q70.6078 105.928 67.5291 103.242 Q64.4736 100.557 64.4736 95.5341 Q64.4736 92.2239 66.3717 89.9323 Q68.2699 87.6406 71.6495 86.8536 M69.9365 79.4694 Q69.9365 82.1545 71.6032 83.6592 Q73.293 85.1638 76.3254 85.1638 Q79.3346 85.1638 81.0244 83.6592 Q82.7374 82.1545 82.7374 79.4694 Q82.7374 76.7842 81.0244 75.2796 Q79.3346 73.775 76.3254 73.775 Q73.293 73.775 71.6032 75.2796 Q69.9365 76.7842 69.9365 79.4694 Z\" fill=\"#000000\" fill-rule=\"evenodd\" fill-opacity=\"1\" /><path clip-path=\"url(#clip272)\" d=\"\n",
       "M235.413 87.9763 L235.413 1445.72 L434.824 1445.72 L434.824 87.9763 L235.413 87.9763 L235.413 87.9763  Z\n",
       "  \" fill=\"#009af9\" fill-rule=\"evenodd\" fill-opacity=\"1\"/>\n",
       "<polyline clip-path=\"url(#clip272)\" style=\"stroke:#000000; stroke-width:4; stroke-opacity:1; fill:none\" points=\"\n",
       "  235.413,87.9763 235.413,1445.72 434.824,1445.72 434.824,87.9763 235.413,87.9763 \n",
       "  \"/>\n",
       "<path clip-path=\"url(#clip272)\" d=\"\n",
       "M434.824 1445.72 L434.824 1445.72 L634.234 1445.72 L634.234 1445.72 L434.824 1445.72 L434.824 1445.72  Z\n",
       "  \" fill=\"#009af9\" fill-rule=\"evenodd\" fill-opacity=\"1\"/>\n",
       "<polyline clip-path=\"url(#clip272)\" style=\"stroke:#000000; stroke-width:4; stroke-opacity:1; fill:none\" points=\"\n",
       "  434.824,1445.72 434.824,1445.72 634.234,1445.72 434.824,1445.72 \n",
       "  \"/>\n",
       "<path clip-path=\"url(#clip272)\" d=\"\n",
       "M634.234 936.563 L634.234 1445.72 L833.645 1445.72 L833.645 936.563 L634.234 936.563 L634.234 936.563  Z\n",
       "  \" fill=\"#009af9\" fill-rule=\"evenodd\" fill-opacity=\"1\"/>\n",
       "<polyline clip-path=\"url(#clip272)\" style=\"stroke:#000000; stroke-width:4; stroke-opacity:1; fill:none\" points=\"\n",
       "  634.234,936.563 634.234,1445.72 833.645,1445.72 833.645,936.563 634.234,936.563 \n",
       "  \"/>\n",
       "<path clip-path=\"url(#clip272)\" d=\"\n",
       "M833.645 1445.72 L833.645 1445.72 L1033.06 1445.72 L1033.06 1445.72 L833.645 1445.72 L833.645 1445.72  Z\n",
       "  \" fill=\"#009af9\" fill-rule=\"evenodd\" fill-opacity=\"1\"/>\n",
       "<polyline clip-path=\"url(#clip272)\" style=\"stroke:#000000; stroke-width:4; stroke-opacity:1; fill:none\" points=\"\n",
       "  833.645,1445.72 833.645,1445.72 1033.06,1445.72 833.645,1445.72 \n",
       "  \"/>\n",
       "<path clip-path=\"url(#clip272)\" d=\"\n",
       "M1033.06 1445.72 L1033.06 1445.72 L1232.47 1445.72 L1232.47 1445.72 L1033.06 1445.72 L1033.06 1445.72  Z\n",
       "  \" fill=\"#009af9\" fill-rule=\"evenodd\" fill-opacity=\"1\"/>\n",
       "<polyline clip-path=\"url(#clip272)\" style=\"stroke:#000000; stroke-width:4; stroke-opacity:1; fill:none\" points=\"\n",
       "  1033.06,1445.72 1033.06,1445.72 1232.47,1445.72 1033.06,1445.72 \n",
       "  \"/>\n",
       "<path clip-path=\"url(#clip272)\" d=\"\n",
       "M1232.47 1276 L1232.47 1445.72 L1431.88 1445.72 L1431.88 1276 L1232.47 1276 L1232.47 1276  Z\n",
       "  \" fill=\"#009af9\" fill-rule=\"evenodd\" fill-opacity=\"1\"/>\n",
       "<polyline clip-path=\"url(#clip272)\" style=\"stroke:#000000; stroke-width:4; stroke-opacity:1; fill:none\" points=\"\n",
       "  1232.47,1276 1232.47,1445.72 1431.88,1445.72 1431.88,1276 1232.47,1276 \n",
       "  \"/>\n",
       "<path clip-path=\"url(#clip272)\" d=\"\n",
       "M1431.88 1445.72 L1431.88 1445.72 L1631.29 1445.72 L1631.29 1445.72 L1431.88 1445.72 L1431.88 1445.72  Z\n",
       "  \" fill=\"#009af9\" fill-rule=\"evenodd\" fill-opacity=\"1\"/>\n",
       "<polyline clip-path=\"url(#clip272)\" style=\"stroke:#000000; stroke-width:4; stroke-opacity:1; fill:none\" points=\"\n",
       "  1431.88,1445.72 1431.88,1445.72 1631.29,1445.72 1431.88,1445.72 \n",
       "  \"/>\n",
       "<path clip-path=\"url(#clip272)\" d=\"\n",
       "M1631.29 936.563 L1631.29 1445.72 L1830.7 1445.72 L1830.7 936.563 L1631.29 936.563 L1631.29 936.563  Z\n",
       "  \" fill=\"#009af9\" fill-rule=\"evenodd\" fill-opacity=\"1\"/>\n",
       "<polyline clip-path=\"url(#clip272)\" style=\"stroke:#000000; stroke-width:4; stroke-opacity:1; fill:none\" points=\"\n",
       "  1631.29,936.563 1631.29,1445.72 1830.7,1445.72 1830.7,936.563 1631.29,936.563 \n",
       "  \"/>\n",
       "<path clip-path=\"url(#clip272)\" d=\"\n",
       "M1830.7 1445.72 L1830.7 1445.72 L2030.11 1445.72 L2030.11 1445.72 L1830.7 1445.72 L1830.7 1445.72  Z\n",
       "  \" fill=\"#009af9\" fill-rule=\"evenodd\" fill-opacity=\"1\"/>\n",
       "<polyline clip-path=\"url(#clip272)\" style=\"stroke:#000000; stroke-width:4; stroke-opacity:1; fill:none\" points=\"\n",
       "  1830.7,1445.72 1830.7,1445.72 2030.11,1445.72 1830.7,1445.72 \n",
       "  \"/>\n",
       "<path clip-path=\"url(#clip272)\" d=\"\n",
       "M2030.11 1276 L2030.11 1445.72 L2229.52 1445.72 L2229.52 1276 L2030.11 1276 L2030.11 1276  Z\n",
       "  \" fill=\"#009af9\" fill-rule=\"evenodd\" fill-opacity=\"1\"/>\n",
       "<polyline clip-path=\"url(#clip272)\" style=\"stroke:#000000; stroke-width:4; stroke-opacity:1; fill:none\" points=\"\n",
       "  2030.11,1276 2030.11,1445.72 2229.52,1445.72 2229.52,1276 2030.11,1276 \n",
       "  \"/>\n",
       "<path clip-path=\"url(#clip270)\" d=\"\n",
       "M1989.74 251.724 L2280.76 251.724 L2280.76 130.764 L1989.74 130.764  Z\n",
       "  \" fill=\"#ffffff\" fill-rule=\"evenodd\" fill-opacity=\"1\"/>\n",
       "<polyline clip-path=\"url(#clip270)\" style=\"stroke:#000000; stroke-width:4; stroke-opacity:1; fill:none\" points=\"\n",
       "  1989.74,251.724 2280.76,251.724 2280.76,130.764 1989.74,130.764 1989.74,251.724 \n",
       "  \"/>\n",
       "<path clip-path=\"url(#clip270)\" d=\"\n",
       "M2013.74 215.436 L2157.74 215.436 L2157.74 167.052 L2013.74 167.052 L2013.74 215.436  Z\n",
       "  \" fill=\"#009af9\" fill-rule=\"evenodd\" fill-opacity=\"1\"/>\n",
       "<polyline clip-path=\"url(#clip270)\" style=\"stroke:#000000; stroke-width:4; stroke-opacity:1; fill:none\" points=\"\n",
       "  2013.74,215.436 2157.74,215.436 2157.74,167.052 2013.74,167.052 2013.74,215.436 \n",
       "  \"/>\n",
       "<path clip-path=\"url(#clip270)\" d=\"M 0 0 M2195.58 210.931 Q2193.77 215.561 2192.06 216.973 Q2190.35 218.385 2187.48 218.385 L2184.08 218.385 L2184.08 214.82 L2186.58 214.82 Q2188.33 214.82 2189.31 213.987 Q2190.28 213.154 2191.46 210.052 L2192.22 208.107 L2181.74 182.598 L2186.25 182.598 L2194.35 202.876 L2202.46 182.598 L2206.97 182.598 L2195.58 210.931 Z\" fill=\"#000000\" fill-rule=\"evenodd\" fill-opacity=\"1\" /><path clip-path=\"url(#clip270)\" d=\"M 0 0 M2212.85 204.589 L2220.49 204.589 L2220.49 178.223 L2212.18 179.89 L2212.18 175.631 L2220.44 173.964 L2225.12 173.964 L2225.12 204.589 L2232.76 204.589 L2232.76 208.524 L2212.85 208.524 L2212.85 204.589 Z\" fill=\"#000000\" fill-rule=\"evenodd\" fill-opacity=\"1\" /></svg>\n"
      ]
     },
     "execution_count": 3,
     "metadata": {},
     "output_type": "execute_result"
    }
   ],
   "source": [
    "histogram(material_handling_exp, nbins = 10)"
   ]
  },
  {
   "cell_type": "code",
   "execution_count": 6,
   "metadata": {},
   "outputs": [
    {
     "data": {
      "text/plain": [
       "Base.ValueIterator for a Dict{String,Float64} with 16 entries. Values:\n",
       "  0.0\n",
       "  0.0\n",
       "  7.2\n",
       "  0.0\n",
       "  2.5\n",
       "  2.5\n",
       "  0.6\n",
       "  0.0\n",
       "  0.0\n",
       "  0.6\n",
       "  2.5\n",
       "  5.06\n",
       "  7.8\n",
       "  9.2\n",
       "  0.0\n",
       "  7.01"
      ]
     },
     "execution_count": 6,
     "metadata": {},
     "output_type": "execute_result"
    }
   ],
   "source": [
    "values(material_handling_exp)"
   ]
  },
  {
   "cell_type": "code",
   "execution_count": null,
   "metadata": {},
   "outputs": [],
   "source": []
  },
  {
   "cell_type": "code",
   "execution_count": 16,
   "metadata": {},
   "outputs": [],
   "source": [
    "using Statistics"
   ]
  },
  {
   "cell_type": "code",
   "execution_count": null,
   "metadata": {},
   "outputs": [],
   "source": []
  },
  {
   "cell_type": "code",
   "execution_count": 17,
   "metadata": {},
   "outputs": [
    {
     "data": {
      "text/plain": [
       "2.8106249999999995"
      ]
     },
     "execution_count": 17,
     "metadata": {},
     "output_type": "execute_result"
    }
   ],
   "source": [
    "mean(values(material_handling_exp))"
   ]
  },
  {
   "cell_type": "code",
   "execution_count": 18,
   "metadata": {},
   "outputs": [
    {
     "ename": "MethodError",
     "evalue": "MethodError: no method matching middle(::Pair{String,Float64}, ::Pair{String,Float64})",
     "output_type": "error",
     "traceback": [
      "MethodError: no method matching middle(::Pair{String,Float64}, ::Pair{String,Float64})",
      "",
      "Stacktrace:",
      " [1] median!(::Array{Pair{String,Float64},1}) at D:\\buildbot\\worker\\package_win64\\build\\usr\\share\\julia\\stdlib\\v1.4\\Statistics\\src\\Statistics.jl:765",
      " [2] median(::Dict{String,Float64}) at D:\\buildbot\\worker\\package_win64\\build\\usr\\share\\julia\\stdlib\\v1.4\\Statistics\\src\\Statistics.jl:798",
      " [3] top-level scope at In[18]:1"
     ]
    }
   ],
   "source": [
    "median(material_handling_exp)"
   ]
  },
  {
   "cell_type": "code",
   "execution_count": 19,
   "metadata": {},
   "outputs": [],
   "source": [
    "using StatsBase"
   ]
  },
  {
   "cell_type": "code",
   "execution_count": 32,
   "metadata": {},
   "outputs": [
    {
     "data": {
      "text/plain": [
       "16-element Array{Float64,1}:\n",
       " 0.0\n",
       " 0.0\n",
       " 7.2\n",
       " 0.0\n",
       " 2.5\n",
       " 2.5\n",
       " 0.6\n",
       " 0.0\n",
       " 0.0\n",
       " 0.6\n",
       " 2.5\n",
       " 5.06\n",
       " 7.8\n",
       " 9.2\n",
       " 0.0\n",
       " 7.01"
      ]
     },
     "execution_count": 32,
     "metadata": {},
     "output_type": "execute_result"
    }
   ],
   "source": [
    "MH_EXP = collect(values(material_handling_exp))"
   ]
  },
  {
   "cell_type": "code",
   "execution_count": 38,
   "metadata": {},
   "outputs": [
    {
     "name": "stdout",
     "output_type": "stream",
     "text": [
      "Summary Stats:\n",
      "Length:         16\n",
      "Missing Count:  0\n",
      "Mean:           2.810625\n",
      "Minimum:        0.000000\n",
      "1st Quartile:   0.000000\n",
      "Median:         1.550000\n",
      "3rd Quartile:   5.547500\n",
      "Maximum:        9.200000\n",
      "Type:           Float64\n"
     ]
    }
   ],
   "source": [
    "describe(MH_EXP)"
   ]
  },
  {
   "cell_type": "code",
   "execution_count": 21,
   "metadata": {},
   "outputs": [
    {
     "name": "stdout",
     "output_type": "stream",
     "text": [
      "search: \u001b[0m\u001b[1md\u001b[22m\u001b[0m\u001b[1me\u001b[22m\u001b[0m\u001b[1ms\u001b[22m\u001b[0m\u001b[1mc\u001b[22m\u001b[0m\u001b[1mr\u001b[22m\u001b[0m\u001b[1mi\u001b[22m\u001b[0m\u001b[1mb\u001b[22m\u001b[0m\u001b[1me\u001b[22m\n",
      "\n"
     ]
    },
    {
     "data": {
      "text/latex": [
       "\\begin{verbatim}\n",
       "describe(io::IO, x)\n",
       "\\end{verbatim}\n",
       "For an object \\texttt{x}, print descriptive statistics to \\texttt{io}.\n",
       "\n",
       "This generic function is owned by StatsBase.jl, which is the sole provider of the default definition.\n",
       "\n",
       "\\rule{\\textwidth}{1pt}\n",
       "\\begin{verbatim}\n",
       "describe(a)\n",
       "\\end{verbatim}\n",
       "Pretty-print the summary statistics provided by \\href{@ref}{\\texttt{summarystats}}: the mean, minimum, 25th percentile, median, 75th percentile, and maximum.\n",
       "\n"
      ],
      "text/markdown": [
       "```\n",
       "describe(io::IO, x)\n",
       "```\n",
       "\n",
       "For an object `x`, print descriptive statistics to `io`.\n",
       "\n",
       "This generic function is owned by StatsBase.jl, which is the sole provider of the default definition.\n",
       "\n",
       "---\n",
       "\n",
       "```\n",
       "describe(a)\n",
       "```\n",
       "\n",
       "Pretty-print the summary statistics provided by [`summarystats`](@ref): the mean, minimum, 25th percentile, median, 75th percentile, and maximum.\n"
      ],
      "text/plain": [
       "\u001b[36m  describe(io::IO, x)\u001b[39m\n",
       "\n",
       "  For an object \u001b[36mx\u001b[39m, print descriptive statistics to \u001b[36mio\u001b[39m.\n",
       "\n",
       "  This generic function is owned by StatsBase.jl, which is the sole provider\n",
       "  of the default definition.\n",
       "\n",
       "  ────────────────────────────────────────────────────────────────────────────\n",
       "\n",
       "\u001b[36m  describe(a)\u001b[39m\n",
       "\n",
       "  Pretty-print the summary statistics provided by \u001b[36msummarystats\u001b[39m: the mean,\n",
       "  minimum, 25th percentile, median, 75th percentile, and maximum."
      ]
     },
     "execution_count": 21,
     "metadata": {},
     "output_type": "execute_result"
    }
   ],
   "source": [
    "?describe"
   ]
  },
  {
   "cell_type": "code",
   "execution_count": null,
   "metadata": {},
   "outputs": [],
   "source": []
  }
 ],
 "metadata": {
  "kernelspec": {
   "display_name": "Julia 1.4.1",
   "language": "julia",
   "name": "julia-1.4"
  },
  "language_info": {
   "file_extension": ".jl",
   "mimetype": "application/julia",
   "name": "julia",
   "version": "1.4.1"
  }
 },
 "nbformat": 4,
 "nbformat_minor": 4
}
