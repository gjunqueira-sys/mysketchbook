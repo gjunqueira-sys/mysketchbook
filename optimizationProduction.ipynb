{
 "cells": [
  {
   "cell_type": "code",
   "execution_count": null,
   "id": "d8488d69",
   "metadata": {},
   "outputs": [],
   "source": []
  },
  {
   "cell_type": "code",
   "execution_count": null,
   "id": "1a553afa",
   "metadata": {},
   "outputs": [],
   "source": []
  },
  {
   "cell_type": "code",
   "execution_count": 5,
   "id": "566b9c63",
   "metadata": {},
   "outputs": [],
   "source": [
    "using JuMP\n",
    "using GLPK"
   ]
  },
  {
   "cell_type": "code",
   "execution_count": 6,
   "id": "261c6257",
   "metadata": {},
   "outputs": [
    {
     "data": {
      "text/plain": [
       "A JuMP Model\n",
       "Feasibility problem with:\n",
       "Variables: 0\n",
       "Model mode: AUTOMATIC\n",
       "CachingOptimizer state: EMPTY_OPTIMIZER\n",
       "Solver name: GLPK"
      ]
     },
     "execution_count": 6,
     "metadata": {},
     "output_type": "execute_result"
    }
   ],
   "source": [
    "#preparing an optimization model;\n",
    "\n",
    "m = Model(GLPK.Optimizer) "
   ]
  },
  {
   "cell_type": "code",
   "execution_count": 10,
   "id": "a1dfdf88",
   "metadata": {},
   "outputs": [
    {
     "data": {
      "text/latex": [
       "$$ x2 $$"
      ],
      "text/plain": [
       "x2"
      ]
     },
     "execution_count": 10,
     "metadata": {},
     "output_type": "execute_result"
    }
   ],
   "source": [
    "#declaring variable\n",
    "@variable(m, x1 >=0)\n",
    "@variable(m, x2 >=0)\n"
   ]
  },
  {
   "cell_type": "code",
   "execution_count": 11,
   "id": "04d59d89",
   "metadata": {},
   "outputs": [
    {
     "data": {
      "text/latex": [
       "$$ 700 x1 + 900 x2 $$"
      ],
      "text/plain": [
       "700 x1 + 900 x2"
      ]
     },
     "execution_count": 11,
     "metadata": {},
     "output_type": "execute_result"
    }
   ],
   "source": [
    "#setting up objective function\n",
    "@objective(m, Max, 700*x1 + 900*x2)"
   ]
  },
  {
   "cell_type": "code",
   "execution_count": 13,
   "id": "58e57555",
   "metadata": {},
   "outputs": [
    {
     "data": {
      "text/latex": [
       "constrain3 : $ 50 x1 + 20 x2 \\leq 48000.0 $"
      ],
      "text/plain": [
       "constrain3 : 50 x1 + 20 x2 <= 48000.0"
      ]
     },
     "execution_count": 13,
     "metadata": {},
     "output_type": "execute_result"
    }
   ],
   "source": [
    "#adding constrains\n",
    "@constraint(m, constrain1, 3*x1 + 5*x2 <=3600) #wood\n",
    "@constraint(m, constrain2, x1 + 2*x2 <=1600 ) #labor\n",
    "@constraint(m, constrain3, 50*x1 + 20*x2 <=48000) #machine\n",
    "\n",
    "\n"
   ]
  },
  {
   "cell_type": "code",
   "execution_count": 18,
   "id": "1794c4ee",
   "metadata": {},
   "outputs": [],
   "source": [
    "#solving the optimization problem:\n",
    "JuMP.optimize!(m)"
   ]
  },
  {
   "cell_type": "code",
   "execution_count": null,
   "id": "cd2fc42b",
   "metadata": {},
   "outputs": [],
   "source": []
  },
  {
   "cell_type": "code",
   "execution_count": 21,
   "id": "9eb17ef7",
   "metadata": {},
   "outputs": [
    {
     "name": "stdout",
     "output_type": "stream",
     "text": [
      "Optimal Solutions:\n",
      "x1 = 884.2105263157895\n",
      "x1 = 189.47368421052633\n"
     ]
    }
   ],
   "source": [
    "println(\"Optimal Solutions:\")\n",
    "println(\"x1 = \", JuMP.value(x1))\n",
    "println(\"x1 = \", JuMP.value(x2))"
   ]
  }
 ],
 "metadata": {
  "kernelspec": {
   "display_name": "Julia 1.6.0",
   "language": "julia",
   "name": "julia-1.6"
  },
  "language_info": {
   "file_extension": ".jl",
   "mimetype": "application/julia",
   "name": "julia",
   "version": "1.6.0"
  }
 },
 "nbformat": 4,
 "nbformat_minor": 5
}
