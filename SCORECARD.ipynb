{
 "cells": [
  {
   "cell_type": "code",
   "execution_count": 2,
   "id": "unavailable-experience",
   "metadata": {},
   "outputs": [],
   "source": [
    "using CSV\n",
    "using DataFrames\n",
    "using Plots"
   ]
  },
  {
   "cell_type": "code",
   "execution_count": 63,
   "id": "comparable-police",
   "metadata": {},
   "outputs": [],
   "source": [
    "using Pkg"
   ]
  },
  {
   "cell_type": "code",
   "execution_count": 66,
   "id": "charming-bumper",
   "metadata": {},
   "outputs": [],
   "source": [
    "using Missings"
   ]
  },
  {
   "cell_type": "code",
   "execution_count": 46,
   "id": "intelligent-charm",
   "metadata": {},
   "outputs": [],
   "source": [
    "dflabor = CSV.read(\"146428ProjectScoreCard.csv\", DataFrame);"
   ]
  },
  {
   "cell_type": "code",
   "execution_count": 47,
   "id": "worldwide-refund",
   "metadata": {},
   "outputs": [
    {
     "data": {
      "text/html": [
       "<table class=\"data-frame\"><thead><tr><th></th><th>Column1</th><th>Pers No.</th><th>Name</th><th>Prior</th><th>Column5</th><th>20-Jun</th><th>Column7</th></tr><tr><th></th><th>String?</th><th>String?</th><th>String</th><th>Missing</th><th>Missing</th><th>Int64?</th><th>Int64?</th></tr></thead><tbody><p>53 rows × 53 columns (omitted printing of 46 columns)</p><tr><th>1</th><td>CE</td><td>1648</td><td>Segaar Michael</td><td><em>missing</em></td><td><em>missing</em></td><td>2</td><td>114</td></tr><tr><th>2</th><td>CE</td><td>11441</td><td>Brockman Luke</td><td><em>missing</em></td><td><em>missing</em></td><td><em>missing</em></td><td><em>missing</em></td></tr><tr><th>3</th><td>CE</td><td>2859</td><td>Doyle Brian</td><td><em>missing</em></td><td><em>missing</em></td><td>2</td><td>152</td></tr><tr><th>4</th><td>CE</td><td>15469</td><td>Sonders Jessica</td><td><em>missing</em></td><td><em>missing</em></td><td><em>missing</em></td><td><em>missing</em></td></tr><tr><th>5</th><td>CE</td><td>401171</td><td>Kooping Jeremy</td><td><em>missing</em></td><td><em>missing</em></td><td>1</td><td>76</td></tr><tr><th>6</th><td>CE</td><td>257441</td><td>Barron Mary</td><td><em>missing</em></td><td><em>missing</em></td><td><em>missing</em></td><td><em>missing</em></td></tr><tr><th>7</th><td>CE</td><td>14708</td><td>Bennitt Breanna</td><td><em>missing</em></td><td><em>missing</em></td><td><em>missing</em></td><td><em>missing</em></td></tr><tr><th>8</th><td>CE</td><td>50001292</td><td>Junqueira-Filho Gilberto</td><td><em>missing</em></td><td><em>missing</em></td><td><em>missing</em></td><td><em>missing</em></td></tr><tr><th>9</th><td>CE</td><td>11612</td><td>Shetty Rachit</td><td><em>missing</em></td><td><em>missing</em></td><td>10</td><td>760</td></tr><tr><th>10</th><td>CE</td><td>50094437</td><td>Albarq Dawood</td><td><em>missing</em></td><td><em>missing</em></td><td><em>missing</em></td><td><em>missing</em></td></tr><tr><th>11</th><td>CE</td><td>50095461</td><td>Li Zhongyuan</td><td><em>missing</em></td><td><em>missing</em></td><td><em>missing</em></td><td><em>missing</em></td></tr><tr><th>12</th><td>CE</td><td>50095611</td><td>Thomas Jacob Sunil</td><td><em>missing</em></td><td><em>missing</em></td><td><em>missing</em></td><td><em>missing</em></td></tr><tr><th>13</th><td>CE</td><td><em>missing</em></td><td>MCE-Conveyor</td><td><em>missing</em></td><td><em>missing</em></td><td><em>missing</em></td><td><em>missing</em></td></tr><tr><th>14</th><td>CE</td><td><em>missing</em></td><td>MDI</td><td><em>missing</em></td><td><em>missing</em></td><td><em>missing</em></td><td><em>missing</em></td></tr><tr><th>15</th><td>STE</td><td>60000138</td><td>James Ulinski</td><td><em>missing</em></td><td><em>missing</em></td><td><em>missing</em></td><td><em>missing</em></td></tr><tr><th>16</th><td>CE</td><td><em>missing</em></td><td>Steve or vivek</td><td><em>missing</em></td><td><em>missing</em></td><td><em>missing</em></td><td><em>missing</em></td></tr><tr><th>17</th><td>CE</td><td>2735</td><td>Steve Letner</td><td><em>missing</em></td><td><em>missing</em></td><td><em>missing</em></td><td><em>missing</em></td></tr><tr><th>18</th><td>CE</td><td>2754</td><td>Terry Westra</td><td><em>missing</em></td><td><em>missing</em></td><td><em>missing</em></td><td><em>missing</em></td></tr><tr><th>19</th><td>CE</td><td>11611</td><td>Alek Pettinger</td><td><em>missing</em></td><td><em>missing</em></td><td><em>missing</em></td><td><em>missing</em></td></tr><tr><th>20</th><td>STE</td><td>60000860</td><td>James Crandell</td><td><em>missing</em></td><td><em>missing</em></td><td><em>missing</em></td><td><em>missing</em></td></tr><tr><th>21</th><td>STE</td><td>2252</td><td>Potter Roger</td><td><em>missing</em></td><td><em>missing</em></td><td><em>missing</em></td><td><em>missing</em></td></tr><tr><th>22</th><td>STE</td><td>8474</td><td>Ramsey Nathan</td><td><em>missing</em></td><td><em>missing</em></td><td>23</td><td>1748</td></tr><tr><th>23</th><td>STE</td><td>15540</td><td>Cole Travis</td><td><em>missing</em></td><td><em>missing</em></td><td><em>missing</em></td><td><em>missing</em></td></tr><tr><th>24</th><td>STE</td><td>50095442</td><td>Adams Austin</td><td><em>missing</em></td><td><em>missing</em></td><td><em>missing</em></td><td><em>missing</em></td></tr><tr><th>25</th><td>STE</td><td>50095443</td><td>Piette Ryan</td><td><em>missing</em></td><td><em>missing</em></td><td><em>missing</em></td><td><em>missing</em></td></tr><tr><th>26</th><td>STE</td><td>3086</td><td>Groom Christopher</td><td><em>missing</em></td><td><em>missing</em></td><td><em>missing</em></td><td><em>missing</em></td></tr><tr><th>27</th><td>STE</td><td><em>missing</em></td><td>MCE-DMS</td><td><em>missing</em></td><td><em>missing</em></td><td><em>missing</em></td><td><em>missing</em></td></tr><tr><th>28</th><td>STE</td><td>13419</td><td>Wade Clarisa</td><td><em>missing</em></td><td><em>missing</em></td><td><em>missing</em></td><td><em>missing</em></td></tr><tr><th>29</th><td>STE</td><td>50093487</td><td>Galifa Armando</td><td><em>missing</em></td><td><em>missing</em></td><td><em>missing</em></td><td><em>missing</em></td></tr><tr><th>30</th><td>STE</td><td>50096816</td><td>Garcia Enrique</td><td><em>missing</em></td><td><em>missing</em></td><td><em>missing</em></td><td><em>missing</em></td></tr><tr><th>&vellip;</th><td>&vellip;</td><td>&vellip;</td><td>&vellip;</td><td>&vellip;</td><td>&vellip;</td><td>&vellip;</td><td>&vellip;</td></tr></tbody></table>"
      ],
      "text/latex": [
       "\\begin{tabular}{r|cccccccc}\n",
       "\t& Column1 & Pers No. & Name & Prior & Column5 & 20-Jun & Column7 & \\\\\n",
       "\t\\hline\n",
       "\t& String? & String? & String & Missing & Missing & Int64? & Int64? & \\\\\n",
       "\t\\hline\n",
       "\t1 & CE & 1648 & Segaar Michael & \\emph{missing} & \\emph{missing} & 2 & 114 & $\\dots$ \\\\\n",
       "\t2 & CE & 11441 & Brockman Luke & \\emph{missing} & \\emph{missing} & \\emph{missing} & \\emph{missing} & $\\dots$ \\\\\n",
       "\t3 & CE & 2859 & Doyle Brian & \\emph{missing} & \\emph{missing} & 2 & 152 & $\\dots$ \\\\\n",
       "\t4 & CE & 15469 & Sonders Jessica & \\emph{missing} & \\emph{missing} & \\emph{missing} & \\emph{missing} & $\\dots$ \\\\\n",
       "\t5 & CE & 401171 & Kooping Jeremy & \\emph{missing} & \\emph{missing} & 1 & 76 & $\\dots$ \\\\\n",
       "\t6 & CE & 257441 & Barron Mary & \\emph{missing} & \\emph{missing} & \\emph{missing} & \\emph{missing} & $\\dots$ \\\\\n",
       "\t7 & CE & 14708 & Bennitt Breanna & \\emph{missing} & \\emph{missing} & \\emph{missing} & \\emph{missing} & $\\dots$ \\\\\n",
       "\t8 & CE & 50001292 & Junqueira-Filho Gilberto & \\emph{missing} & \\emph{missing} & \\emph{missing} & \\emph{missing} & $\\dots$ \\\\\n",
       "\t9 & CE & 11612 & Shetty Rachit & \\emph{missing} & \\emph{missing} & 10 & 760 & $\\dots$ \\\\\n",
       "\t10 & CE & 50094437 & Albarq Dawood & \\emph{missing} & \\emph{missing} & \\emph{missing} & \\emph{missing} & $\\dots$ \\\\\n",
       "\t11 & CE & 50095461 & Li Zhongyuan & \\emph{missing} & \\emph{missing} & \\emph{missing} & \\emph{missing} & $\\dots$ \\\\\n",
       "\t12 & CE & 50095611 & Thomas Jacob Sunil & \\emph{missing} & \\emph{missing} & \\emph{missing} & \\emph{missing} & $\\dots$ \\\\\n",
       "\t13 & CE & \\emph{missing} & MCE-Conveyor & \\emph{missing} & \\emph{missing} & \\emph{missing} & \\emph{missing} & $\\dots$ \\\\\n",
       "\t14 & CE & \\emph{missing} & MDI & \\emph{missing} & \\emph{missing} & \\emph{missing} & \\emph{missing} & $\\dots$ \\\\\n",
       "\t15 & STE & 60000138 & James Ulinski & \\emph{missing} & \\emph{missing} & \\emph{missing} & \\emph{missing} & $\\dots$ \\\\\n",
       "\t16 & CE & \\emph{missing} & Steve or vivek & \\emph{missing} & \\emph{missing} & \\emph{missing} & \\emph{missing} & $\\dots$ \\\\\n",
       "\t17 & CE & 2735 & Steve Letner & \\emph{missing} & \\emph{missing} & \\emph{missing} & \\emph{missing} & $\\dots$ \\\\\n",
       "\t18 & CE & 2754 & Terry Westra & \\emph{missing} & \\emph{missing} & \\emph{missing} & \\emph{missing} & $\\dots$ \\\\\n",
       "\t19 & CE & 11611 & Alek Pettinger & \\emph{missing} & \\emph{missing} & \\emph{missing} & \\emph{missing} & $\\dots$ \\\\\n",
       "\t20 & STE & 60000860 & James Crandell & \\emph{missing} & \\emph{missing} & \\emph{missing} & \\emph{missing} & $\\dots$ \\\\\n",
       "\t21 & STE & 2252 & Potter Roger & \\emph{missing} & \\emph{missing} & \\emph{missing} & \\emph{missing} & $\\dots$ \\\\\n",
       "\t22 & STE & 8474 & Ramsey Nathan & \\emph{missing} & \\emph{missing} & 23 & 1748 & $\\dots$ \\\\\n",
       "\t23 & STE & 15540 & Cole Travis & \\emph{missing} & \\emph{missing} & \\emph{missing} & \\emph{missing} & $\\dots$ \\\\\n",
       "\t24 & STE & 50095442 & Adams Austin & \\emph{missing} & \\emph{missing} & \\emph{missing} & \\emph{missing} & $\\dots$ \\\\\n",
       "\t25 & STE & 50095443 & Piette Ryan & \\emph{missing} & \\emph{missing} & \\emph{missing} & \\emph{missing} & $\\dots$ \\\\\n",
       "\t26 & STE & 3086 & Groom Christopher & \\emph{missing} & \\emph{missing} & \\emph{missing} & \\emph{missing} & $\\dots$ \\\\\n",
       "\t27 & STE & \\emph{missing} & MCE-DMS & \\emph{missing} & \\emph{missing} & \\emph{missing} & \\emph{missing} & $\\dots$ \\\\\n",
       "\t28 & STE & 13419 & Wade Clarisa & \\emph{missing} & \\emph{missing} & \\emph{missing} & \\emph{missing} & $\\dots$ \\\\\n",
       "\t29 & STE & 50093487 & Galifa Armando & \\emph{missing} & \\emph{missing} & \\emph{missing} & \\emph{missing} & $\\dots$ \\\\\n",
       "\t30 & STE & 50096816 & Garcia Enrique & \\emph{missing} & \\emph{missing} & \\emph{missing} & \\emph{missing} & $\\dots$ \\\\\n",
       "\t$\\dots$ & $\\dots$ & $\\dots$ & $\\dots$ & $\\dots$ & $\\dots$ & $\\dots$ & $\\dots$ &  \\\\\n",
       "\\end{tabular}\n"
      ],
      "text/plain": [
       "\u001b[1m53×53 DataFrame\u001b[0m\n",
       "\u001b[1m Row \u001b[0m│\u001b[1m Column1 \u001b[0m\u001b[1m Pers No. \u001b[0m\u001b[1m Name                          \u001b[0m\u001b[1m Prior   \u001b[0m\u001b[1m Column5 \u001b[0m\u001b[1m 20-\u001b[0m ⋯\n",
       "\u001b[1m     \u001b[0m│\u001b[90m String? \u001b[0m\u001b[90m String?  \u001b[0m\u001b[90m String                        \u001b[0m\u001b[90m Missing \u001b[0m\u001b[90m Missing \u001b[0m\u001b[90m Int\u001b[0m ⋯\n",
       "─────┼──────────────────────────────────────────────────────────────────────────\n",
       "   1 │ CE       1648      Segaar Michael                \u001b[90m missing \u001b[0m\u001b[90m missing \u001b[0m     ⋯\n",
       "   2 │ CE       11441     Brockman Luke                 \u001b[90m missing \u001b[0m\u001b[90m missing \u001b[0m\u001b[90m mis\u001b[0m\n",
       "   3 │ CE       2859      Doyle Brian                   \u001b[90m missing \u001b[0m\u001b[90m missing \u001b[0m\n",
       "   4 │ CE       15469     Sonders Jessica               \u001b[90m missing \u001b[0m\u001b[90m missing \u001b[0m\u001b[90m mis\u001b[0m\n",
       "   5 │ CE       401171    Kooping Jeremy                \u001b[90m missing \u001b[0m\u001b[90m missing \u001b[0m     ⋯\n",
       "   6 │ CE       257441    Barron Mary                   \u001b[90m missing \u001b[0m\u001b[90m missing \u001b[0m\u001b[90m mis\u001b[0m\n",
       "   7 │ CE       14708     Bennitt Breanna               \u001b[90m missing \u001b[0m\u001b[90m missing \u001b[0m\u001b[90m mis\u001b[0m\n",
       "   8 │ CE       50001292  Junqueira-Filho Gilberto      \u001b[90m missing \u001b[0m\u001b[90m missing \u001b[0m\u001b[90m mis\u001b[0m\n",
       "   9 │ CE       11612     Shetty Rachit                 \u001b[90m missing \u001b[0m\u001b[90m missing \u001b[0m     ⋯\n",
       "  10 │ CE       50094437  Albarq Dawood                 \u001b[90m missing \u001b[0m\u001b[90m missing \u001b[0m\u001b[90m mis\u001b[0m\n",
       "  11 │ CE       50095461  Li Zhongyuan                  \u001b[90m missing \u001b[0m\u001b[90m missing \u001b[0m\u001b[90m mis\u001b[0m\n",
       "  ⋮  │    ⋮        ⋮                    ⋮                   ⋮        ⋮         ⋱\n",
       "  44 │ CE       401171    KOOPING JEREMY                \u001b[90m missing \u001b[0m\u001b[90m missing \u001b[0m\u001b[90m mis\u001b[0m\n",
       "  45 │ CE       401201    LAGERMAN ERIC                 \u001b[90m missing \u001b[0m\u001b[90m missing \u001b[0m\u001b[90m mis\u001b[0m ⋯\n",
       "  46 │ CE       404735    ANDERSON MICHAEL              \u001b[90m missing \u001b[0m\u001b[90m missing \u001b[0m\u001b[90m mis\u001b[0m\n",
       "  47 │ CE       406481    NAPRUSZEWSKI JAMES            \u001b[90m missing \u001b[0m\u001b[90m missing \u001b[0m\u001b[90m mis\u001b[0m\n",
       "  48 │ CE       4000302   MOSQUEDA GARZA ADRIAN GERARDO \u001b[90m missing \u001b[0m\u001b[90m missing \u001b[0m\u001b[90m mis\u001b[0m\n",
       "  49 │ CE       4000960   RANGEL VILLARREAL RAUL        \u001b[90m missing \u001b[0m\u001b[90m missing \u001b[0m\u001b[90m mis\u001b[0m ⋯\n",
       "  50 │ CE       4000963   GARCIA ACOSTA ESAU            \u001b[90m missing \u001b[0m\u001b[90m missing \u001b[0m\u001b[90m mis\u001b[0m\n",
       "  51 │ CE      \u001b[90m missing  \u001b[0m Other                         \u001b[90m missing \u001b[0m\u001b[90m missing \u001b[0m\u001b[90m mis\u001b[0m\n",
       "  52 │ CE      \u001b[90m missing  \u001b[0m Unassigned                    \u001b[90m missing \u001b[0m\u001b[90m missing \u001b[0m\u001b[90m mis\u001b[0m\n",
       "  53 │ CE      \u001b[90m missing  \u001b[0m Underrun                      \u001b[90m missing \u001b[0m\u001b[90m missing \u001b[0m\u001b[90m mis\u001b[0m ⋯\n",
       "\u001b[36m                                                  48 columns and 32 rows omitted\u001b[0m"
      ]
     },
     "execution_count": 47,
     "metadata": {},
     "output_type": "execute_result"
    }
   ],
   "source": [
    "dropmissing!(dflabor, :Name)"
   ]
  },
  {
   "cell_type": "code",
   "execution_count": 48,
   "id": "seasonal-handbook",
   "metadata": {},
   "outputs": [
    {
     "data": {
      "text/html": [
       "<table class=\"data-frame\"><thead><tr><th></th><th>Column1</th><th>Pers No.</th><th>Name</th><th>Prior</th><th>Column5</th><th>20-Jun</th><th>Column7</th><th>20-Jul</th></tr><tr><th></th><th>String?</th><th>String?</th><th>String</th><th>Missing</th><th>Missing</th><th>Int64?</th><th>Int64?</th><th>Int64?</th></tr></thead><tbody><p>5 rows × 53 columns (omitted printing of 45 columns)</p><tr><th>1</th><td>CE</td><td>1648</td><td>Segaar Michael</td><td><em>missing</em></td><td><em>missing</em></td><td>2</td><td>114</td><td>2</td></tr><tr><th>2</th><td>CE</td><td>11441</td><td>Brockman Luke</td><td><em>missing</em></td><td><em>missing</em></td><td><em>missing</em></td><td><em>missing</em></td><td>2</td></tr><tr><th>3</th><td>CE</td><td>2859</td><td>Doyle Brian</td><td><em>missing</em></td><td><em>missing</em></td><td>2</td><td>152</td><td>1</td></tr><tr><th>4</th><td>CE</td><td>15469</td><td>Sonders Jessica</td><td><em>missing</em></td><td><em>missing</em></td><td><em>missing</em></td><td><em>missing</em></td><td>1</td></tr><tr><th>5</th><td>CE</td><td>401171</td><td>Kooping Jeremy</td><td><em>missing</em></td><td><em>missing</em></td><td>1</td><td>76</td><td><em>missing</em></td></tr></tbody></table>"
      ],
      "text/latex": [
       "\\begin{tabular}{r|ccccccccc}\n",
       "\t& Column1 & Pers No. & Name & Prior & Column5 & 20-Jun & Column7 & 20-Jul & \\\\\n",
       "\t\\hline\n",
       "\t& String? & String? & String & Missing & Missing & Int64? & Int64? & Int64? & \\\\\n",
       "\t\\hline\n",
       "\t1 & CE & 1648 & Segaar Michael & \\emph{missing} & \\emph{missing} & 2 & 114 & 2 & $\\dots$ \\\\\n",
       "\t2 & CE & 11441 & Brockman Luke & \\emph{missing} & \\emph{missing} & \\emph{missing} & \\emph{missing} & 2 & $\\dots$ \\\\\n",
       "\t3 & CE & 2859 & Doyle Brian & \\emph{missing} & \\emph{missing} & 2 & 152 & 1 & $\\dots$ \\\\\n",
       "\t4 & CE & 15469 & Sonders Jessica & \\emph{missing} & \\emph{missing} & \\emph{missing} & \\emph{missing} & 1 & $\\dots$ \\\\\n",
       "\t5 & CE & 401171 & Kooping Jeremy & \\emph{missing} & \\emph{missing} & 1 & 76 & \\emph{missing} & $\\dots$ \\\\\n",
       "\\end{tabular}\n"
      ],
      "text/plain": [
       "\u001b[1m5×53 DataFrame\u001b[0m\n",
       "\u001b[1m Row \u001b[0m│\u001b[1m Column1 \u001b[0m\u001b[1m Pers No. \u001b[0m\u001b[1m Name            \u001b[0m\u001b[1m Prior   \u001b[0m\u001b[1m Column5 \u001b[0m\u001b[1m 20-Jun  \u001b[0m\u001b[1m Column7 \u001b[0m\u001b[1m\u001b[0m ⋯\n",
       "\u001b[1m     \u001b[0m│\u001b[90m String? \u001b[0m\u001b[90m String?  \u001b[0m\u001b[90m String          \u001b[0m\u001b[90m Missing \u001b[0m\u001b[90m Missing \u001b[0m\u001b[90m Int64?  \u001b[0m\u001b[90m Int64?  \u001b[0m\u001b[90m\u001b[0m ⋯\n",
       "─────┼──────────────────────────────────────────────────────────────────────────\n",
       "   1 │ CE       1648      Segaar Michael  \u001b[90m missing \u001b[0m\u001b[90m missing \u001b[0m       2      114  ⋯\n",
       "   2 │ CE       11441     Brockman Luke   \u001b[90m missing \u001b[0m\u001b[90m missing \u001b[0m\u001b[90m missing \u001b[0m\u001b[90m missing \u001b[0m\n",
       "   3 │ CE       2859      Doyle Brian     \u001b[90m missing \u001b[0m\u001b[90m missing \u001b[0m       2      152\n",
       "   4 │ CE       15469     Sonders Jessica \u001b[90m missing \u001b[0m\u001b[90m missing \u001b[0m\u001b[90m missing \u001b[0m\u001b[90m missing \u001b[0m\n",
       "   5 │ CE       401171    Kooping Jeremy  \u001b[90m missing \u001b[0m\u001b[90m missing \u001b[0m       1       76 \u001b[90m\u001b[0m ⋯\n",
       "\u001b[36m                                                              46 columns omitted\u001b[0m"
      ]
     },
     "execution_count": 48,
     "metadata": {},
     "output_type": "execute_result"
    }
   ],
   "source": [
    "first(dflabor, 5)"
   ]
  },
  {
   "cell_type": "code",
   "execution_count": 95,
   "id": "impaired-benchmark",
   "metadata": {},
   "outputs": [
    {
     "data": {
      "text/plain": [
       "53-element Array{String,1}:\n",
       " \"Column1\"\n",
       " \"Pers No.\"\n",
       " \"Name\"\n",
       " \"Prior\"\n",
       " \"Column5\"\n",
       " \"20-Jun\"\n",
       " \"Column7\"\n",
       " \"20-Jul\"\n",
       " \"Column9\"\n",
       " \"20-Aug\"\n",
       " \"Column11\"\n",
       " \"20-Sep\"\n",
       " \"Column13\"\n",
       " ⋮\n",
       " \">18 Months\"\n",
       " \"Column43\"\n",
       " \"Hrs\"\n",
       " \"Cost (\\$)\"\n",
       " \"Hrs_1\"\n",
       " \"Cost (\\$)_1\"\n",
       " \"Hrs_2\"\n",
       " \"Cost (\\$)_2\"\n",
       " \"Hrs_3\"\n",
       " \"Cost (\\$)_3\"\n",
       " \"Hrs_4\"\n",
       " \"Cost (\\$)_4\""
      ]
     },
     "execution_count": 95,
     "metadata": {},
     "output_type": "execute_result"
    }
   ],
   "source": [
    "names(dflabor)"
   ]
  },
  {
   "cell_type": "code",
   "execution_count": 50,
   "id": "actual-restoration",
   "metadata": {},
   "outputs": [
    {
     "data": {
      "text/plain": [
       "53-element Array{String,1}:\n",
       " \"Segaar Michael\"\n",
       " \"Brockman Luke\"\n",
       " \"Doyle Brian\"\n",
       " \"Sonders Jessica\"\n",
       " \"Kooping Jeremy\"\n",
       " \"Barron Mary\"\n",
       " \"Bennitt Breanna\"\n",
       " \"Junqueira-Filho Gilberto\"\n",
       " \"Shetty Rachit\"\n",
       " \"Albarq Dawood\"\n",
       " \"Li Zhongyuan\"\n",
       " \"Thomas Jacob Sunil\"\n",
       " \"MCE-Conveyor\"\n",
       " ⋮\n",
       " \"ROFRITZ TIMOTHY\"\n",
       " \"JONKMAN MACKENZIE\"\n",
       " \"KOOPING JEREMY\"\n",
       " \"LAGERMAN ERIC\"\n",
       " \"ANDERSON MICHAEL\"\n",
       " \"NAPRUSZEWSKI JAMES\"\n",
       " \"MOSQUEDA GARZA ADRIAN GERARDO\"\n",
       " \"RANGEL VILLARREAL RAUL\"\n",
       " \"GARCIA ACOSTA ESAU\"\n",
       " \"Other\"\n",
       " \"Unassigned\"\n",
       " \"Underrun\""
      ]
     },
     "execution_count": 50,
     "metadata": {},
     "output_type": "execute_result"
    }
   ],
   "source": [
    "dflabor[:, :Name]"
   ]
  },
  {
   "cell_type": "code",
   "execution_count": 51,
   "id": "coordinated-majority",
   "metadata": {},
   "outputs": [
    {
     "data": {
      "text/html": [
       "<table class=\"data-frame\"><thead><tr><th></th><th>Name</th></tr><tr><th></th><th>String</th></tr></thead><tbody><p>53 rows × 1 columns</p><tr><th>1</th><td>Segaar Michael</td></tr><tr><th>2</th><td>Brockman Luke</td></tr><tr><th>3</th><td>Doyle Brian</td></tr><tr><th>4</th><td>Sonders Jessica</td></tr><tr><th>5</th><td>Kooping Jeremy</td></tr><tr><th>6</th><td>Barron Mary</td></tr><tr><th>7</th><td>Bennitt Breanna</td></tr><tr><th>8</th><td>Junqueira-Filho Gilberto</td></tr><tr><th>9</th><td>Shetty Rachit</td></tr><tr><th>10</th><td>Albarq Dawood</td></tr><tr><th>11</th><td>Li Zhongyuan</td></tr><tr><th>12</th><td>Thomas Jacob Sunil</td></tr><tr><th>13</th><td>MCE-Conveyor</td></tr><tr><th>14</th><td>MDI</td></tr><tr><th>15</th><td>James Ulinski</td></tr><tr><th>16</th><td>Steve or vivek</td></tr><tr><th>17</th><td>Steve Letner</td></tr><tr><th>18</th><td>Terry Westra</td></tr><tr><th>19</th><td>Alek Pettinger</td></tr><tr><th>20</th><td>James Crandell</td></tr><tr><th>21</th><td>Potter Roger</td></tr><tr><th>22</th><td>Ramsey Nathan</td></tr><tr><th>23</th><td>Cole Travis</td></tr><tr><th>24</th><td>Adams Austin</td></tr><tr><th>25</th><td>Piette Ryan</td></tr><tr><th>26</th><td>Groom Christopher</td></tr><tr><th>27</th><td>MCE-DMS</td></tr><tr><th>28</th><td>Wade Clarisa</td></tr><tr><th>29</th><td>Galifa Armando</td></tr><tr><th>30</th><td>Garcia Enrique</td></tr><tr><th>&vellip;</th><td>&vellip;</td></tr></tbody></table>"
      ],
      "text/latex": [
       "\\begin{tabular}{r|c}\n",
       "\t& Name\\\\\n",
       "\t\\hline\n",
       "\t& String\\\\\n",
       "\t\\hline\n",
       "\t1 & Segaar Michael \\\\\n",
       "\t2 & Brockman Luke \\\\\n",
       "\t3 & Doyle Brian \\\\\n",
       "\t4 & Sonders Jessica \\\\\n",
       "\t5 & Kooping Jeremy \\\\\n",
       "\t6 & Barron Mary \\\\\n",
       "\t7 & Bennitt Breanna \\\\\n",
       "\t8 & Junqueira-Filho Gilberto \\\\\n",
       "\t9 & Shetty Rachit \\\\\n",
       "\t10 & Albarq Dawood \\\\\n",
       "\t11 & Li Zhongyuan \\\\\n",
       "\t12 & Thomas Jacob Sunil \\\\\n",
       "\t13 & MCE-Conveyor \\\\\n",
       "\t14 & MDI \\\\\n",
       "\t15 & James Ulinski \\\\\n",
       "\t16 & Steve or vivek \\\\\n",
       "\t17 & Steve Letner \\\\\n",
       "\t18 & Terry Westra \\\\\n",
       "\t19 & Alek Pettinger \\\\\n",
       "\t20 & James Crandell \\\\\n",
       "\t21 & Potter Roger \\\\\n",
       "\t22 & Ramsey Nathan \\\\\n",
       "\t23 & Cole Travis \\\\\n",
       "\t24 & Adams Austin \\\\\n",
       "\t25 & Piette Ryan \\\\\n",
       "\t26 & Groom Christopher \\\\\n",
       "\t27 & MCE-DMS \\\\\n",
       "\t28 & Wade Clarisa \\\\\n",
       "\t29 & Galifa Armando \\\\\n",
       "\t30 & Garcia Enrique \\\\\n",
       "\t$\\dots$ & $\\dots$ \\\\\n",
       "\\end{tabular}\n"
      ],
      "text/plain": [
       "\u001b[1m53×1 DataFrame\u001b[0m\n",
       "\u001b[1m Row \u001b[0m│\u001b[1m Name                          \u001b[0m\n",
       "\u001b[1m     \u001b[0m│\u001b[90m String                        \u001b[0m\n",
       "─────┼───────────────────────────────\n",
       "   1 │ Segaar Michael\n",
       "   2 │ Brockman Luke\n",
       "   3 │ Doyle Brian\n",
       "   4 │ Sonders Jessica\n",
       "   5 │ Kooping Jeremy\n",
       "   6 │ Barron Mary\n",
       "   7 │ Bennitt Breanna\n",
       "   8 │ Junqueira-Filho Gilberto\n",
       "   9 │ Shetty Rachit\n",
       "  10 │ Albarq Dawood\n",
       "  11 │ Li Zhongyuan\n",
       "  ⋮  │               ⋮\n",
       "  44 │ KOOPING JEREMY\n",
       "  45 │ LAGERMAN ERIC\n",
       "  46 │ ANDERSON MICHAEL\n",
       "  47 │ NAPRUSZEWSKI JAMES\n",
       "  48 │ MOSQUEDA GARZA ADRIAN GERARDO\n",
       "  49 │ RANGEL VILLARREAL RAUL\n",
       "  50 │ GARCIA ACOSTA ESAU\n",
       "  51 │ Other\n",
       "  52 │ Unassigned\n",
       "  53 │ Underrun\n",
       "\u001b[36m                      32 rows omitted\u001b[0m"
      ]
     },
     "execution_count": 51,
     "metadata": {},
     "output_type": "execute_result"
    }
   ],
   "source": [
    "select(dflabor, :Name)"
   ]
  },
  {
   "cell_type": "code",
   "execution_count": 53,
   "id": "checked-warren",
   "metadata": {},
   "outputs": [
    {
     "data": {
      "text/plain": [
       "53-element Array{String,1}:\n",
       " \"Segaar Michael\"\n",
       " \"Brockman Luke\"\n",
       " \"Doyle Brian\"\n",
       " \"Sonders Jessica\"\n",
       " \"Kooping Jeremy\"\n",
       " \"Barron Mary\"\n",
       " \"Bennitt Breanna\"\n",
       " \"Junqueira-Filho Gilberto\"\n",
       " \"Shetty Rachit\"\n",
       " \"Albarq Dawood\"\n",
       " \"Li Zhongyuan\"\n",
       " \"Thomas Jacob Sunil\"\n",
       " \"MCE-Conveyor\"\n",
       " ⋮\n",
       " \"ROFRITZ TIMOTHY\"\n",
       " \"JONKMAN MACKENZIE\"\n",
       " \"KOOPING JEREMY\"\n",
       " \"LAGERMAN ERIC\"\n",
       " \"ANDERSON MICHAEL\"\n",
       " \"NAPRUSZEWSKI JAMES\"\n",
       " \"MOSQUEDA GARZA ADRIAN GERARDO\"\n",
       " \"RANGEL VILLARREAL RAUL\"\n",
       " \"GARCIA ACOSTA ESAU\"\n",
       " \"Other\"\n",
       " \"Unassigned\"\n",
       " \"Underrun\""
      ]
     },
     "execution_count": 53,
     "metadata": {},
     "output_type": "execute_result"
    }
   ],
   "source": [
    "Resourcenames=dflabor.Name"
   ]
  },
  {
   "cell_type": "code",
   "execution_count": 54,
   "id": "crucial-bacon",
   "metadata": {},
   "outputs": [
    {
     "data": {
      "text/html": [
       "<table class=\"data-frame\"><thead><tr><th></th><th>Column1</th><th>Pers No.</th><th>Name</th><th>Prior</th><th>Column5</th><th>20-Jun</th><th>Column7</th><th>20-Jul</th><th>Column9</th></tr><tr><th></th><th>String?</th><th>String?</th><th>String</th><th>Missing</th><th>Missing</th><th>Int64?</th><th>Int64?</th><th>Int64?</th><th>Int64?</th></tr></thead><tbody><p>1 rows × 53 columns (omitted printing of 44 columns)</p><tr><th>1</th><td>CE</td><td>1648</td><td>Segaar Michael</td><td><em>missing</em></td><td><em>missing</em></td><td>2</td><td>114</td><td>2</td><td>152</td></tr></tbody></table>"
      ],
      "text/latex": [
       "\\begin{tabular}{r|cccccccccc}\n",
       "\t& Column1 & Pers No. & Name & Prior & Column5 & 20-Jun & Column7 & 20-Jul & Column9 & \\\\\n",
       "\t\\hline\n",
       "\t& String? & String? & String & Missing & Missing & Int64? & Int64? & Int64? & Int64? & \\\\\n",
       "\t\\hline\n",
       "\t1 & CE & 1648 & Segaar Michael & \\emph{missing} & \\emph{missing} & 2 & 114 & 2 & 152 & $\\dots$ \\\\\n",
       "\\end{tabular}\n"
      ],
      "text/plain": [
       "\u001b[1m1×53 DataFrame\u001b[0m\n",
       "\u001b[1m Row \u001b[0m│\u001b[1m Column1 \u001b[0m\u001b[1m Pers No. \u001b[0m\u001b[1m Name           \u001b[0m\u001b[1m Prior   \u001b[0m\u001b[1m Column5 \u001b[0m\u001b[1m 20-Jun \u001b[0m\u001b[1m Column7 \u001b[0m\u001b[1m 2\u001b[0m ⋯\n",
       "\u001b[1m     \u001b[0m│\u001b[90m String? \u001b[0m\u001b[90m String?  \u001b[0m\u001b[90m String         \u001b[0m\u001b[90m Missing \u001b[0m\u001b[90m Missing \u001b[0m\u001b[90m Int64? \u001b[0m\u001b[90m Int64?  \u001b[0m\u001b[90m I\u001b[0m ⋯\n",
       "─────┼──────────────────────────────────────────────────────────────────────────\n",
       "   1 │ CE       1648      Segaar Michael \u001b[90m missing \u001b[0m\u001b[90m missing \u001b[0m      2      114    ⋯\n",
       "\u001b[36m                                                              46 columns omitted\u001b[0m"
      ]
     },
     "execution_count": 54,
     "metadata": {},
     "output_type": "execute_result"
    }
   ],
   "source": [
    "dflabor[Resourcenames .== \"Segaar Michael\" , :]"
   ]
  },
  {
   "cell_type": "code",
   "execution_count": 60,
   "id": "fantastic-throw",
   "metadata": {},
   "outputs": [
    {
     "data": {
      "text/html": [
       "<p><b>GroupedDataFrame with 1 group based on key: Name</b></p><p><i>First Group (1 row): Name = \"Segaar Michael\"</i></p><table class=\"data-frame\"><thead><tr><th></th><th>Column1</th><th>Pers No.</th><th>Name</th><th>Prior</th><th>Column5</th><th>20-Jun</th><th>Column7</th><th>20-Jul</th><th>Column9</th></tr><tr><th></th><th>String?</th><th>String?</th><th>String</th><th>Missing</th><th>Missing</th><th>Int64?</th><th>Int64?</th><th>Int64?</th><th>Int64?</th></tr></thead><tbody><tr><th>1</th><td>CE</td><td>1648</td><td>Segaar Michael</td><td><em>missing</em></td><td><em>missing</em></td><td>2</td><td>114</td><td>2</td><td>152</td></tr></tbody></table>"
      ],
      "text/latex": [
       "GroupedDataFrame with 1 group based on key: Name\n",
       "\n",
       "First Group (1 row): Name = \"Segaar Michael\"\n",
       "\n",
       "\\begin{tabular}{r|cccccccccc}\n",
       "\t& Column1 & Pers No. & Name & Prior & Column5 & 20-Jun & Column7 & 20-Jul & Column9 & \\\\\n",
       "\t\\hline\n",
       "\t& String? & String? & String & Missing & Missing & Int64? & Int64? & Int64? & Int64? & \\\\\n",
       "\t\\hline\n",
       "\t1 & CE & 1648 & Segaar Michael & \\emph{missing} & \\emph{missing} & 2 & 114 & 2 & 152 & $\\dots$ \\\\\n",
       "\\end{tabular}\n"
      ],
      "text/plain": [
       "GroupedDataFrame with 1 group based on key: Name\n",
       "First Group (1 row): Name = \"Segaar Michael\"\n",
       "\u001b[1m Row \u001b[0m│\u001b[1m Column1 \u001b[0m\u001b[1m Pers No. \u001b[0m\u001b[1m Name           \u001b[0m\u001b[1m Prior   \u001b[0m\u001b[1m Column5 \u001b[0m\u001b[1m 20-Jun \u001b[0m\u001b[1m Column7 \u001b[0m\u001b[1m 2\u001b[0m ⋯\n",
       "\u001b[1m     \u001b[0m│\u001b[90m String? \u001b[0m\u001b[90m String?  \u001b[0m\u001b[90m String         \u001b[0m\u001b[90m Missing \u001b[0m\u001b[90m Missing \u001b[0m\u001b[90m Int64? \u001b[0m\u001b[90m Int64?  \u001b[0m\u001b[90m I\u001b[0m ⋯\n",
       "─────┼──────────────────────────────────────────────────────────────────────────\n",
       "   1 │ CE       1648      Segaar Michael \u001b[90m missing \u001b[0m\u001b[90m missing \u001b[0m      2      114    ⋯\n",
       "\u001b[36m                                                              46 columns omitted\u001b[0m"
      ]
     },
     "execution_count": 60,
     "metadata": {},
     "output_type": "execute_result"
    }
   ],
   "source": [
    "df1 = groupby(dflabor[Resourcenames .== \"Segaar Michael\" , :], :Name)"
   ]
  },
  {
   "cell_type": "code",
   "execution_count": 86,
   "id": "proud-turkish",
   "metadata": {},
   "outputs": [
    {
     "ename": "MethodError",
     "evalue": "MethodError: no method matching replace!(::Missings.EachReplaceMissing{Missings.EachReplaceMissing{GroupedDataFrame{DataFrame},Int64},Int64}, ::Tuple{String,Int64})\nClosest candidates are:\n  replace!(::Any, !Matched::Pair...; count) at set.jl:448\n  replace!(!Matched::Union{Function, Type}, ::Any; count) at set.jl:490",
     "output_type": "error",
     "traceback": [
      "MethodError: no method matching replace!(::Missings.EachReplaceMissing{Missings.EachReplaceMissing{GroupedDataFrame{DataFrame},Int64},Int64}, ::Tuple{String,Int64})\nClosest candidates are:\n  replace!(::Any, !Matched::Pair...; count) at set.jl:448\n  replace!(!Matched::Union{Function, Type}, ::Any; count) at set.jl:490",
      "",
      "Stacktrace:",
      " [1] top-level scope at In[86]:1"
     ]
    }
   ],
   "source": [
    "replace!(df1,( \"missing\", 0))"
   ]
  },
  {
   "cell_type": "code",
   "execution_count": 98,
   "id": "equivalent-format",
   "metadata": {},
   "outputs": [
    {
     "name": "stdout",
     "output_type": "stream",
     "text": [
      "col = \"Column1\"\n",
      "col = \"Pers No.\"\n",
      "col = \"Name\"\n",
      "col = \"Prior\"\n",
      "col = \"Column5\"\n",
      "col = \"20-Jun\"\n",
      "col = \"Column7\"\n",
      "col = \"20-Jul\"\n",
      "col = \"Column9\"\n",
      "col = \"20-Aug\"\n",
      "col = \"Column11\"\n",
      "col = \"20-Sep\"\n",
      "col = \"Column13\"\n",
      "col = \"20-Oct\"\n",
      "col = \"Column15\"\n",
      "col = \"20-Nov\"\n",
      "col = \"Column17\"\n",
      "col = \"20-Dec\"\n",
      "col = \"Column19\"\n",
      "col = \"21-Jan\"\n",
      "col = \"Column21\"\n",
      "col = \"21-Feb\"\n",
      "col = \"Column23\"\n",
      "col = \"21-Mar\"\n",
      "col = \"Column25\"\n",
      "col = \"21-Apr\"\n",
      "col = \"Column27\"\n",
      "col = \"21-May\"\n",
      "col = \"Column29\"\n",
      "col = \"21-Jun\"\n",
      "col = \"Column31\"\n",
      "col = \"21-Jul\"\n",
      "col = \"Column33\"\n",
      "col = \"21-Aug\"\n",
      "col = \"Column35\"\n",
      "col = \"21-Sep\"\n",
      "col = \"Column37\"\n",
      "col = \"21-Oct\"\n",
      "col = \"Column39\"\n",
      "col = \"21-Nov\"\n",
      "col = \"Column41\"\n",
      "col = \">18 Months\"\n",
      "col = \"Column43\"\n",
      "col = \"Hrs\"\n",
      "col = \"Cost (\\$)\"\n",
      "col = \"Hrs_1\"\n",
      "col = \"Cost (\\$)_1\"\n",
      "col = \"Hrs_2\"\n",
      "col = \"Cost (\\$)_2\"\n",
      "col = \"Hrs_3\"\n",
      "col = \"Cost (\\$)_3\"\n",
      "col = \"Hrs_4\"\n",
      "col = \"Cost (\\$)_4\"\n"
     ]
    }
   ],
   "source": [
    "for col in names(dflabor)\n",
    "    @show(col)\n",
    "end\n"
   ]
  },
  {
   "cell_type": "code",
   "execution_count": null,
   "id": "quantitative-supplement",
   "metadata": {},
   "outputs": [],
   "source": []
  }
 ],
 "metadata": {
  "kernelspec": {
   "display_name": "Julia 1.4.1",
   "language": "julia",
   "name": "julia-1.4"
  },
  "language_info": {
   "file_extension": ".jl",
   "mimetype": "application/julia",
   "name": "julia",
   "version": "1.4.1"
  }
 },
 "nbformat": 4,
 "nbformat_minor": 5
}
