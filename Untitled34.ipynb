{
 "cells": [
  {
   "cell_type": "code",
   "execution_count": 1,
   "metadata": {},
   "outputs": [],
   "source": [
    "using CSV"
   ]
  },
  {
   "cell_type": "code",
   "execution_count": 3,
   "metadata": {},
   "outputs": [
    {
     "data": {
      "text/html": [
       "<table class=\"data-frame\"><thead><tr><th></th><th>Name</th><th>Years_Since_Hired</th><th>Prof_exp</th><th>Pos_Level</th><th>Lead_score</th></tr><tr><th></th><th>String</th><th>Float64</th><th>Float64</th><th>Int64</th><th>Float64</th></tr></thead><tbody><p>15 rows × 5 columns</p><tr><th>1</th><td>Rachit Shetty</td><td>9.2</td><td>9.2</td><td>3</td><td>5.0</td></tr><tr><th>2</th><td>Eric Puente</td><td>7.8</td><td>7.8</td><td>3</td><td>4.0</td></tr><tr><th>3</th><td>Randy Crawford</td><td>7.2</td><td>7.2</td><td>3</td><td>1.0</td></tr><tr><th>4</th><td>Ethan Reinhart</td><td>7.01</td><td>7.01</td><td>2</td><td>3.5</td></tr><tr><th>5</th><td>Alex Salinas</td><td>5.06</td><td>5.06</td><td>2</td><td>3.0</td></tr><tr><th>6</th><td>Po-Jen Shih</td><td>0.44</td><td>10.34</td><td>3</td><td>2.5</td></tr><tr><th>7</th><td>Sruthi </td><td>0.42</td><td>3.6</td><td>2</td><td>1.5</td></tr><tr><th>8</th><td>Julian Li</td><td>0.0</td><td>24.0</td><td>4</td><td>2.0</td></tr><tr><th>9</th><td>Jason truex</td><td>0.0</td><td>8.0</td><td>2</td><td>1.5</td></tr><tr><th>10</th><td>Aaron Fankhauser</td><td>0.0</td><td>4.5</td><td>2</td><td>1.5</td></tr><tr><th>11</th><td>Ricky Skoch</td><td>0.0</td><td>0.0</td><td>1</td><td>1.0</td></tr><tr><th>12</th><td>Avery Rains</td><td>0.0</td><td>2.5</td><td>2</td><td>1.0</td></tr><tr><th>13</th><td>Matthew Hofmeister</td><td>0.0</td><td>4.6</td><td>2</td><td>1.0</td></tr><tr><th>14</th><td>Julita Briones</td><td>0.0</td><td>1.87</td><td>1</td><td>1.0</td></tr><tr><th>15</th><td>Dawood Albarq</td><td>0.3</td><td>2.5</td><td>2</td><td>1.5</td></tr></tbody></table>"
      ],
      "text/latex": [
       "\\begin{tabular}{r|ccccc}\n",
       "\t& Name & Years\\_Since\\_Hired & Prof\\_exp & Pos\\_Level & Lead\\_score\\\\\n",
       "\t\\hline\n",
       "\t& String & Float64 & Float64 & Int64 & Float64\\\\\n",
       "\t\\hline\n",
       "\t1 & Rachit Shetty & 9.2 & 9.2 & 3 & 5.0 \\\\\n",
       "\t2 & Eric Puente & 7.8 & 7.8 & 3 & 4.0 \\\\\n",
       "\t3 & Randy Crawford & 7.2 & 7.2 & 3 & 1.0 \\\\\n",
       "\t4 & Ethan Reinhart & 7.01 & 7.01 & 2 & 3.5 \\\\\n",
       "\t5 & Alex Salinas & 5.06 & 5.06 & 2 & 3.0 \\\\\n",
       "\t6 & Po-Jen Shih & 0.44 & 10.34 & 3 & 2.5 \\\\\n",
       "\t7 & Sruthi  & 0.42 & 3.6 & 2 & 1.5 \\\\\n",
       "\t8 & Julian Li & 0.0 & 24.0 & 4 & 2.0 \\\\\n",
       "\t9 & Jason truex & 0.0 & 8.0 & 2 & 1.5 \\\\\n",
       "\t10 & Aaron Fankhauser & 0.0 & 4.5 & 2 & 1.5 \\\\\n",
       "\t11 & Ricky Skoch & 0.0 & 0.0 & 1 & 1.0 \\\\\n",
       "\t12 & Avery Rains & 0.0 & 2.5 & 2 & 1.0 \\\\\n",
       "\t13 & Matthew Hofmeister & 0.0 & 4.6 & 2 & 1.0 \\\\\n",
       "\t14 & Julita Briones & 0.0 & 1.87 & 1 & 1.0 \\\\\n",
       "\t15 & Dawood Albarq & 0.3 & 2.5 & 2 & 1.5 \\\\\n",
       "\\end{tabular}\n"
      ],
      "text/plain": [
       "15×5 DataFrames.DataFrame. Omitted printing of 1 columns\n",
       "│ Row │ Name               │ Years_Since_Hired │ Prof_exp │ Pos_Level │\n",
       "│     │ \u001b[90mString\u001b[39m             │ \u001b[90mFloat64\u001b[39m           │ \u001b[90mFloat64\u001b[39m  │ \u001b[90mInt64\u001b[39m     │\n",
       "├─────┼────────────────────┼───────────────────┼──────────┼───────────┤\n",
       "│ 1   │ Rachit Shetty      │ 9.2               │ 9.2      │ 3         │\n",
       "│ 2   │ Eric Puente        │ 7.8               │ 7.8      │ 3         │\n",
       "│ 3   │ Randy Crawford     │ 7.2               │ 7.2      │ 3         │\n",
       "│ 4   │ Ethan Reinhart     │ 7.01              │ 7.01     │ 2         │\n",
       "│ 5   │ Alex Salinas       │ 5.06              │ 5.06     │ 2         │\n",
       "│ 6   │ Po-Jen Shih        │ 0.44              │ 10.34    │ 3         │\n",
       "│ 7   │ Sruthi             │ 0.42              │ 3.6      │ 2         │\n",
       "│ 8   │ Julian Li          │ 0.0               │ 24.0     │ 4         │\n",
       "│ 9   │ Jason truex        │ 0.0               │ 8.0      │ 2         │\n",
       "│ 10  │ Aaron Fankhauser   │ 0.0               │ 4.5      │ 2         │\n",
       "│ 11  │ Ricky Skoch        │ 0.0               │ 0.0      │ 1         │\n",
       "│ 12  │ Avery Rains        │ 0.0               │ 2.5      │ 2         │\n",
       "│ 13  │ Matthew Hofmeister │ 0.0               │ 4.6      │ 2         │\n",
       "│ 14  │ Julita Briones     │ 0.0               │ 1.87     │ 1         │\n",
       "│ 15  │ Dawood Albarq      │ 0.3               │ 2.5      │ 2         │"
      ]
     },
     "execution_count": 3,
     "metadata": {},
     "output_type": "execute_result"
    }
   ],
   "source": [
    "data = CSV.read(\"CE_SCORE.csv\")"
   ]
  },
  {
   "cell_type": "code",
   "execution_count": null,
   "metadata": {},
   "outputs": [],
   "source": []
  }
 ],
 "metadata": {
  "kernelspec": {
   "display_name": "Julia 1.4.1",
   "language": "julia",
   "name": "julia-1.4"
  },
  "language_info": {
   "file_extension": ".jl",
   "mimetype": "application/julia",
   "name": "julia",
   "version": "1.4.1"
  }
 },
 "nbformat": 4,
 "nbformat_minor": 4
}
