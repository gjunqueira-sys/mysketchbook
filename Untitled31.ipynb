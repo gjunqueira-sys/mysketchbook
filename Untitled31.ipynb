{
 "cells": [
  {
   "cell_type": "code",
   "execution_count": 30,
   "metadata": {},
   "outputs": [
    {
     "name": "stderr",
     "output_type": "stream",
     "text": [
      "┌ Info: Precompiling StatsPlots [f3b207a7-027a-5e70-b257-86293d7955fd]\n",
      "└ @ Base loading.jl:1260\n"
     ]
    }
   ],
   "source": [
    "using CSV\n",
    "using DataFrames\n",
    "using StatsPlots # Required for the DataFrame user recipe\n"
   ]
  },
  {
   "cell_type": "code",
   "execution_count": null,
   "metadata": {},
   "outputs": [],
   "source": []
  },
  {
   "cell_type": "code",
   "execution_count": 19,
   "metadata": {},
   "outputs": [
    {
     "data": {
      "text/html": [
       "<table class=\"data-frame\"><thead><tr><th></th><th>Exec Notes</th><th>Customer</th><th>Description</th></tr><tr><th></th><th>String?</th><th>String</th><th>String?</th></tr></thead><tbody><p>407 rows × 18 columns (omitted printing of 15 columns)</p><tr><th>1</th><td>Regional</td><td>Ace Hardware</td><td>Shuttle System</td></tr><tr><th>2</th><td><em>missing</em></td><td>Amazon.com</td><td>NA_19/20_RDG1_Softline</td></tr><tr><th>3</th><td><em>missing</em></td><td>Amazon.com</td><td>NA 20/21 IxD - SBD1</td></tr><tr><th>4</th><td><em>missing</em></td><td>Amazon.com</td><td>NA 20/21 IxD - GYR2</td></tr><tr><th>5</th><td><em>missing</em></td><td>Amazon.com</td><td>NA_20/21_ARS_SAN3_640K</td></tr><tr><th>6</th><td><em>missing</em></td><td>Amazon.com</td><td>NA_20/21_ARS_DET3_640K</td></tr><tr><th>7</th><td><em>missing</em></td><td>Amazon.com</td><td>NA_20/21_ARS_TPA4-465K</td></tr><tr><th>8</th><td><em>missing</em></td><td>Amazon.com</td><td>NA_20/21_ARS_S21X_465K</td></tr><tr><th>9</th><td>Regional</td><td>Anatolia Tile - Vaughan, ON</td><td>28-181002 AGV and Case/Pc Pick - Savannah</td></tr><tr><th>10</th><td>Regional</td><td>Ben E. Keith</td><td><em>missing</em></td></tr><tr><th>11</th><td>Regional</td><td>Best Buy USA</td><td>Best Buy Dinuba - Ecom 2.0</td></tr><tr><th>12</th><td>Regional</td><td>Best Buy USA</td><td>Best Buy Dublin - Ecom 2.0</td></tr><tr><th>13</th><td>Regional</td><td>Best Buy USA</td><td>Best Buy Nichols - Ecom 2.0</td></tr><tr><th>14</th><td>Regional</td><td>Best Buy USA</td><td>Best Buy Ardmore - Ecom 2.0</td></tr><tr><th>15</th><td>Regional</td><td>Best Buy USA</td><td>BBY - Nichols New Ship Lines</td></tr><tr><th>16</th><td>Regional</td><td>Burlington Coat Factory</td><td>3rd PTL replication for daniels way</td></tr><tr><th>17</th><td>Regional</td><td>CDMV - Saint Hyacinthe, QC</td><td>26-191101 CDMV Pick Tower Conveyor</td></tr><tr><th>18</th><td>Regional</td><td>Continental Automotive Mexicana - San Luis Potosi, SLP</td><td>Continental Pallet ASRS</td></tr><tr><th>19</th><td>Regional</td><td>CValder SA de CV - Unknown, Unknown - Unknown, Unknown</td><td>CValder Tepotzotlan</td></tr><tr><th>20</th><td><em>missing</em></td><td>Difarmer - Culiacan, Sinaloa</td><td>Difarmer AutoStore</td></tr><tr><th>21</th><td>Regional</td><td>Essity</td><td>ASRS 2019</td></tr><tr><th>22</th><td>Regional</td><td>Fedex Ground</td><td>Kalamazoo AutoSat</td></tr><tr><th>23</th><td>Regional</td><td>Fedex Ground</td><td>DMS Concept</td></tr><tr><th>24</th><td>Global</td><td>Fortna</td><td>IS1FL</td></tr><tr><th>25</th><td>Global</td><td>Frito Lay</td><td>EAGV - 11 NA Reach Perry ASRS &amp; AGV Expansion</td></tr><tr><th>26</th><td><em>missing</em></td><td>Frito Lay</td><td>EAGV - 7 NA Reach ROSE ASRS&amp;AGV Expansion</td></tr><tr><th>27</th><td>Global</td><td>Frito Lay</td><td>FFC Decoupling to DMS</td></tr><tr><th>28</th><td>Global</td><td>FritoLay</td><td>DSC - Pouch Pilot for Conversion Center</td></tr><tr><th>29</th><td>Regional</td><td>Google Inc</td><td>Fairburn Server Rack/Crate Automated Storage</td></tr><tr><th>30</th><td>Regional</td><td>Kennametal</td><td>AutoStore GTP Split Case Order Fulfillment System</td></tr><tr><th>&vellip;</th><td>&vellip;</td><td>&vellip;</td><td>&vellip;</td></tr></tbody></table>"
      ],
      "text/latex": [
       "\\begin{tabular}{r|cccc}\n",
       "\t& Exec Notes & Customer & Description & \\\\\n",
       "\t\\hline\n",
       "\t& String? & String & String? & \\\\\n",
       "\t\\hline\n",
       "\t1 & Regional & Ace Hardware & Shuttle System & $\\dots$ \\\\\n",
       "\t2 & \\emph{missing} & Amazon.com & NA\\_19/20\\_RDG1\\_Softline & $\\dots$ \\\\\n",
       "\t3 & \\emph{missing} & Amazon.com & NA 20/21 IxD - SBD1 & $\\dots$ \\\\\n",
       "\t4 & \\emph{missing} & Amazon.com & NA 20/21 IxD - GYR2 & $\\dots$ \\\\\n",
       "\t5 & \\emph{missing} & Amazon.com & NA\\_20/21\\_ARS\\_SAN3\\_640K & $\\dots$ \\\\\n",
       "\t6 & \\emph{missing} & Amazon.com & NA\\_20/21\\_ARS\\_DET3\\_640K & $\\dots$ \\\\\n",
       "\t7 & \\emph{missing} & Amazon.com & NA\\_20/21\\_ARS\\_TPA4-465K & $\\dots$ \\\\\n",
       "\t8 & \\emph{missing} & Amazon.com & NA\\_20/21\\_ARS\\_S21X\\_465K & $\\dots$ \\\\\n",
       "\t9 & Regional & Anatolia Tile - Vaughan, ON & 28-181002 AGV and Case/Pc Pick - Savannah & $\\dots$ \\\\\n",
       "\t10 & Regional & Ben E. Keith & \\emph{missing} & $\\dots$ \\\\\n",
       "\t11 & Regional & Best Buy USA & Best Buy Dinuba - Ecom 2.0 & $\\dots$ \\\\\n",
       "\t12 & Regional & Best Buy USA & Best Buy Dublin - Ecom 2.0 & $\\dots$ \\\\\n",
       "\t13 & Regional & Best Buy USA & Best Buy Nichols - Ecom 2.0 & $\\dots$ \\\\\n",
       "\t14 & Regional & Best Buy USA & Best Buy Ardmore - Ecom 2.0 & $\\dots$ \\\\\n",
       "\t15 & Regional & Best Buy USA & BBY - Nichols New Ship Lines & $\\dots$ \\\\\n",
       "\t16 & Regional & Burlington Coat Factory & 3rd PTL replication for daniels way & $\\dots$ \\\\\n",
       "\t17 & Regional & CDMV - Saint Hyacinthe, QC & 26-191101 CDMV Pick Tower Conveyor & $\\dots$ \\\\\n",
       "\t18 & Regional & Continental Automotive Mexicana - San Luis Potosi, SLP & Continental Pallet ASRS & $\\dots$ \\\\\n",
       "\t19 & Regional & CValder SA de CV - Unknown, Unknown - Unknown, Unknown & CValder Tepotzotlan & $\\dots$ \\\\\n",
       "\t20 & \\emph{missing} & Difarmer - Culiacan, Sinaloa & Difarmer AutoStore & $\\dots$ \\\\\n",
       "\t21 & Regional & Essity & ASRS 2019 & $\\dots$ \\\\\n",
       "\t22 & Regional & Fedex Ground & Kalamazoo AutoSat & $\\dots$ \\\\\n",
       "\t23 & Regional & Fedex Ground & DMS Concept & $\\dots$ \\\\\n",
       "\t24 & Global & Fortna & IS1FL & $\\dots$ \\\\\n",
       "\t25 & Global & Frito Lay & EAGV - 11 NA Reach Perry ASRS \\& AGV Expansion & $\\dots$ \\\\\n",
       "\t26 & \\emph{missing} & Frito Lay & EAGV - 7 NA Reach ROSE ASRS\\&AGV Expansion & $\\dots$ \\\\\n",
       "\t27 & Global & Frito Lay & FFC Decoupling to DMS & $\\dots$ \\\\\n",
       "\t28 & Global & FritoLay & DSC - Pouch Pilot for Conversion Center & $\\dots$ \\\\\n",
       "\t29 & Regional & Google Inc & Fairburn Server Rack/Crate Automated Storage & $\\dots$ \\\\\n",
       "\t30 & Regional & Kennametal & AutoStore GTP Split Case Order Fulfillment System & $\\dots$ \\\\\n",
       "\t$\\dots$ & $\\dots$ & $\\dots$ & $\\dots$ &  \\\\\n",
       "\\end{tabular}\n"
      ],
      "text/plain": [
       "407×18 DataFrame. Omitted printing of 16 columns\n",
       "│ Row │ Exec Notes │ Customer                          │\n",
       "│     │ \u001b[90mString?\u001b[39m    │ \u001b[90mString\u001b[39m                            │\n",
       "├─────┼────────────┼───────────────────────────────────┤\n",
       "│ 1   │ Regional   │ Ace Hardware                      │\n",
       "│ 2   │ \u001b[90mmissing\u001b[39m    │ Amazon.com                        │\n",
       "│ 3   │ \u001b[90mmissing\u001b[39m    │ Amazon.com                        │\n",
       "│ 4   │ \u001b[90mmissing\u001b[39m    │ Amazon.com                        │\n",
       "│ 5   │ \u001b[90mmissing\u001b[39m    │ Amazon.com                        │\n",
       "│ 6   │ \u001b[90mmissing\u001b[39m    │ Amazon.com                        │\n",
       "│ 7   │ \u001b[90mmissing\u001b[39m    │ Amazon.com                        │\n",
       "│ 8   │ \u001b[90mmissing\u001b[39m    │ Amazon.com                        │\n",
       "│ 9   │ Regional   │ Anatolia Tile - Vaughan, ON       │\n",
       "│ 10  │ Regional   │ Ben E. Keith                      │\n",
       "⋮\n",
       "│ 397 │ Regional   │ Miebach Consulting, Inc           │\n",
       "│ 398 │ Regional   │ NV Warehouse Co                   │\n",
       "│ 399 │ Regional   │ S.P. Richards Company             │\n",
       "│ 400 │ Regional   │ SC Services, LLC - Alexandria, VA │\n",
       "│ 401 │ Regional   │ TJX Companies                     │\n",
       "│ 402 │ Regional   │ Tyson Fresh Meats                 │\n",
       "│ 403 │ Global     │ Walmart                           │\n",
       "│ 404 │ Regional   │ Wayfair LLC                       │\n",
       "│ 405 │ Global     │ Wisconsin Lift Truck              │\n",
       "│ 406 │ Global     │ World Source Integration          │\n",
       "│ 407 │ Global     │ World Source Integration          │"
      ]
     },
     "execution_count": 19,
     "metadata": {},
     "output_type": "execute_result"
    }
   ],
   "source": [
    "df =CSV.read(\"PRIMES.csv\")"
   ]
  },
  {
   "cell_type": "code",
   "execution_count": null,
   "metadata": {},
   "outputs": [],
   "source": []
  },
  {
   "cell_type": "code",
   "execution_count": 20,
   "metadata": {},
   "outputs": [
    {
     "name": "stderr",
     "output_type": "stream",
     "text": [
      "┌ Warning: `head(df::AbstractDataFrame)` is deprecated, use `first(df, 6)` instead.\n",
      "│   caller = top-level scope at In[20]:1\n",
      "└ @ Core In[20]:1\n"
     ]
    },
    {
     "data": {
      "text/html": [
       "<table class=\"data-frame\"><thead><tr><th></th><th>Exec Notes</th><th>Customer</th><th>Description</th><th>Project</th><th>Sell</th><th>Conf</th><th>Secton Mngr Controls\n",
       "=+IF(AND(D2&lt;&gt;\"\",D2&lt;&gt;0),VLOOKUP(D2,Sheet1!$D$2:$h$1000,4,FALSE),\"\")</th></tr><tr><th></th><th>String?</th><th>String</th><th>String?</th><th>Int64?</th><th>Float64</th><th>String</th><th>String?</th></tr></thead><tbody><p>6 rows × 18 columns (omitted printing of 11 columns)</p><tr><th>1</th><td>Regional</td><td>Ace Hardware</td><td>Shuttle System</td><td>148522</td><td>13.0</td><td>100%</td><td>Cooper/Brulla</td></tr><tr><th>2</th><td><em>missing</em></td><td>Amazon.com</td><td>NA_19/20_RDG1_Softline</td><td>150916</td><td>29.0</td><td>100%</td><td>Bush</td></tr><tr><th>3</th><td><em>missing</em></td><td>Amazon.com</td><td>NA 20/21 IxD - SBD1</td><td>150384</td><td>73.0</td><td>100%</td><td>Bush</td></tr><tr><th>4</th><td><em>missing</em></td><td>Amazon.com</td><td>NA 20/21 IxD - GYR2</td><td><em>missing</em></td><td>73.0</td><td>100%</td><td>Bush</td></tr><tr><th>5</th><td><em>missing</em></td><td>Amazon.com</td><td>NA_20/21_ARS_SAN3_640K</td><td>150043</td><td>89.2</td><td>100%</td><td>Bush</td></tr><tr><th>6</th><td><em>missing</em></td><td>Amazon.com</td><td>NA_20/21_ARS_DET3_640K</td><td>152232</td><td>89.2</td><td>100%</td><td>Bush</td></tr></tbody></table>"
      ],
      "text/latex": [
       "\\begin{tabular}{r|cccccccc}\n",
       "\t& Exec Notes & Customer & Description & Project & Sell & Conf & Secton Mngr Controls\n",
       "=+IF(AND(D2<>\"\",D2<>0),VLOOKUP(D2,Sheet1!\\$D\\$2:\\$h\\$1000,4,FALSE),\"\") & \\\\\n",
       "\t\\hline\n",
       "\t& String? & String & String? & Int64? & Float64 & String & String? & \\\\\n",
       "\t\\hline\n",
       "\t1 & Regional & Ace Hardware & Shuttle System & 148522 & 13.0 & 100\\% & Cooper/Brulla & $\\dots$ \\\\\n",
       "\t2 & \\emph{missing} & Amazon.com & NA\\_19/20\\_RDG1\\_Softline & 150916 & 29.0 & 100\\% & Bush & $\\dots$ \\\\\n",
       "\t3 & \\emph{missing} & Amazon.com & NA 20/21 IxD - SBD1 & 150384 & 73.0 & 100\\% & Bush & $\\dots$ \\\\\n",
       "\t4 & \\emph{missing} & Amazon.com & NA 20/21 IxD - GYR2 & \\emph{missing} & 73.0 & 100\\% & Bush & $\\dots$ \\\\\n",
       "\t5 & \\emph{missing} & Amazon.com & NA\\_20/21\\_ARS\\_SAN3\\_640K & 150043 & 89.2 & 100\\% & Bush & $\\dots$ \\\\\n",
       "\t6 & \\emph{missing} & Amazon.com & NA\\_20/21\\_ARS\\_DET3\\_640K & 152232 & 89.2 & 100\\% & Bush & $\\dots$ \\\\\n",
       "\\end{tabular}\n"
      ],
      "text/plain": [
       "6×18 DataFrame. Omitted printing of 13 columns\n",
       "│ Row │ Exec Notes │ Customer     │ Description            │ Project │ Sell    │\n",
       "│     │ \u001b[90mString?\u001b[39m    │ \u001b[90mString\u001b[39m       │ \u001b[90mUnion{Missing, String}\u001b[39m │ \u001b[90mInt64?\u001b[39m  │ \u001b[90mFloat64\u001b[39m │\n",
       "├─────┼────────────┼──────────────┼────────────────────────┼─────────┼─────────┤\n",
       "│ 1   │ Regional   │ Ace Hardware │ Shuttle System         │ 148522  │ 13.0    │\n",
       "│ 2   │ \u001b[90mmissing\u001b[39m    │ Amazon.com   │ NA_19/20_RDG1_Softline │ 150916  │ 29.0    │\n",
       "│ 3   │ \u001b[90mmissing\u001b[39m    │ Amazon.com   │ NA 20/21 IxD - SBD1    │ 150384  │ 73.0    │\n",
       "│ 4   │ \u001b[90mmissing\u001b[39m    │ Amazon.com   │ NA 20/21 IxD - GYR2    │ \u001b[90mmissing\u001b[39m │ 73.0    │\n",
       "│ 5   │ \u001b[90mmissing\u001b[39m    │ Amazon.com   │ NA_20/21_ARS_SAN3_640K │ 150043  │ 89.2    │\n",
       "│ 6   │ \u001b[90mmissing\u001b[39m    │ Amazon.com   │ NA_20/21_ARS_DET3_640K │ 152232  │ 89.2    │"
      ]
     },
     "execution_count": 20,
     "metadata": {},
     "output_type": "execute_result"
    }
   ],
   "source": [
    "head(df)"
   ]
  },
  {
   "cell_type": "code",
   "execution_count": 21,
   "metadata": {},
   "outputs": [
    {
     "data": {
      "text/html": [
       "<table class=\"data-frame\"><thead><tr><th></th><th>variable</th></tr><tr><th></th><th>Symbol</th></tr></thead><tbody><p>18 rows × 8 columns (omitted printing of 7 columns)</p><tr><th>1</th><td>Exec Notes</td></tr><tr><th>2</th><td>Customer</td></tr><tr><th>3</th><td>Description</td></tr><tr><th>4</th><td>Project</td></tr><tr><th>5</th><td>Sell</td></tr><tr><th>6</th><td>Conf</td></tr><tr><th>7</th><td>Secton Mngr Controls\\n=+IF(AND(D2&lt;&gt;\"\",D2&lt;&gt;0),VLOOKUP(D2,Sheet1!$D$2:$h$1000,4,FALSE),\"\")</td></tr><tr><th>8</th><td>Secton Mngr Mechanical\\n=+IF(AND(D2&lt;&gt;\"\",D2&lt;&gt;0),VLOOKUP(D2,Sheet1!$D$2:$h$1000,5,FALSE),\"\")</td></tr><tr><th>9</th><td>Ord Mo</td></tr><tr><th>10</th><td>Status/Next Steps</td></tr><tr><th>11</th><td>Channel</td></tr><tr><th>12</th><td>Program</td></tr><tr><th>13</th><td>Installation Start Months</td></tr><tr><th>14</th><td>Duration</td></tr><tr><th>15</th><td>Profit Center</td></tr><tr><th>16</th><td>Stage</td></tr><tr><th>17</th><td>Vertial Market</td></tr><tr><th>18</th><td>Salesperson</td></tr></tbody></table>"
      ],
      "text/latex": [
       "\\begin{tabular}{r|cc}\n",
       "\t& variable & \\\\\n",
       "\t\\hline\n",
       "\t& Symbol & \\\\\n",
       "\t\\hline\n",
       "\t1 & Exec Notes & $\\dots$ \\\\\n",
       "\t2 & Customer & $\\dots$ \\\\\n",
       "\t3 & Description & $\\dots$ \\\\\n",
       "\t4 & Project & $\\dots$ \\\\\n",
       "\t5 & Sell & $\\dots$ \\\\\n",
       "\t6 & Conf & $\\dots$ \\\\\n",
       "\t7 & Secton Mngr Controls\\textbackslash{}n=+IF(AND(D2<>\"\",D2<>0),VLOOKUP(D2,Sheet1!\\$D\\$2:\\$h\\$1000,4,FALSE),\"\") & $\\dots$ \\\\\n",
       "\t8 & Secton Mngr Mechanical\\textbackslash{}n=+IF(AND(D2<>\"\",D2<>0),VLOOKUP(D2,Sheet1!\\$D\\$2:\\$h\\$1000,5,FALSE),\"\") & $\\dots$ \\\\\n",
       "\t9 & Ord Mo & $\\dots$ \\\\\n",
       "\t10 & Status/Next Steps & $\\dots$ \\\\\n",
       "\t11 & Channel & $\\dots$ \\\\\n",
       "\t12 & Program & $\\dots$ \\\\\n",
       "\t13 & Installation Start Months & $\\dots$ \\\\\n",
       "\t14 & Duration & $\\dots$ \\\\\n",
       "\t15 & Profit Center & $\\dots$ \\\\\n",
       "\t16 & Stage & $\\dots$ \\\\\n",
       "\t17 & Vertial Market & $\\dots$ \\\\\n",
       "\t18 & Salesperson & $\\dots$ \\\\\n",
       "\\end{tabular}\n"
      ],
      "text/plain": [
       "18×8 DataFrame. Omitted printing of 8 columns\n",
       "│ Row │ │     │ ├─────┼\n",
       "│ 1   │ │ 2   │ │ 3   │ │ 4   │ │ 5   │ │ 6   │ │ 7   │ │ 8   │ │ 9   │ │ 10  │ │ 11  │ │ 12  │ │ 13  │ │ 14  │ │ 15  │ │ 16  │ │ 17  │ │ 18  │ "
      ]
     },
     "execution_count": 21,
     "metadata": {},
     "output_type": "execute_result"
    }
   ],
   "source": [
    "describe(df)"
   ]
  },
  {
   "cell_type": "code",
   "execution_count": 22,
   "metadata": {},
   "outputs": [
    {
     "data": {
      "text/plain": [
       "18-element Array{String,1}:\n",
       " \"Exec Notes\"\n",
       " \"Customer\"\n",
       " \"Description\"\n",
       " \"Project\"\n",
       " \"Sell\"\n",
       " \"Conf\"\n",
       " \"Secton Mngr Controls\\n=+IF(AND(D2<>\\\"\\\",D2<>0),VLOOKUP(D2,Sheet1!\\$D\\$2:\\$h\\$1000,4,FALSE),\\\"\\\")\"\n",
       " \"Secton Mngr Mechanical\\n=+IF(AND(D2<>\\\"\\\",D2<>0),VLOOKUP(D2,Sheet1!\\$D\\$2:\\$h\\$1000,5,FALSE),\\\"\\\")\"\n",
       " \"Ord Mo\"\n",
       " \"Status/Next Steps\"\n",
       " \"Channel\"\n",
       " \"Program\"\n",
       " \"Installation Start Months\"\n",
       " \"Duration\"\n",
       " \"Profit Center\"\n",
       " \"Stage\"\n",
       " \"Vertial Market\"\n",
       " \"Salesperson\""
      ]
     },
     "execution_count": 22,
     "metadata": {},
     "output_type": "execute_result"
    }
   ],
   "source": [
    "names(df)"
   ]
  },
  {
   "cell_type": "code",
   "execution_count": 23,
   "metadata": {},
   "outputs": [],
   "source": [
    "channels = groupby(df, :Channel);"
   ]
  },
  {
   "cell_type": "code",
   "execution_count": 24,
   "metadata": {},
   "outputs": [
    {
     "data": {
      "text/html": [
       "<p><b>GroupedDataFrame with 12 groups based on key: Channel</b></p><p><i>First Group (60 rows): Channel = \"Midwest\"</i></p><table class=\"data-frame\"><thead><tr><th></th><th>Exec Notes</th><th>Customer</th></tr><tr><th></th><th>String?</th><th>String</th></tr></thead><tbody><tr><th>1</th><td>Regional</td><td>Ace Hardware</td></tr><tr><th>2</th><td>Regional</td><td>Essity</td></tr><tr><th>3</th><td>Regional</td><td>Kimberly Clark USA</td></tr><tr><th>4</th><td><em>missing</em></td><td>Kimberly Clark USA</td></tr><tr><th>5</th><td>working through MSA, to be finished by Aug 6</td><td>Kimberly Clark USA</td></tr><tr><th>6</th><td>Regional</td><td>Kimberly Clark USA</td></tr><tr><th>7</th><td>Regional</td><td>Molex Incorporated</td></tr><tr><th>8</th><td>Regional</td><td>Reyes Holding</td></tr><tr><th>9</th><td>Regional</td><td>TJX Companies</td></tr><tr><th>10</th><td>Regional</td><td>Walgreens</td></tr><tr><th>11</th><td>Regional</td><td>Premium Waters</td></tr><tr><th>12</th><td>Regional</td><td>Grainger</td></tr><tr><th>13</th><td>Regional</td><td>Kimberly Clark USA</td></tr><tr><th>14</th><td>Regional</td><td>Inpres Inc</td></tr><tr><th>15</th><td>Regional</td><td>Kimberly Clark USA</td></tr><tr><th>16</th><td>Regional</td><td>Lowes Companies USA</td></tr><tr><th>17</th><td>Regional</td><td>Reyes Holding</td></tr><tr><th>18</th><td>Regional</td><td>Reyes Holding</td></tr><tr><th>19</th><td>Regional</td><td>Reyes Holding</td></tr><tr><th>20</th><td>Regional</td><td>Walgreens</td></tr><tr><th>21</th><td>Regional</td><td>3M Company</td></tr><tr><th>22</th><td>Regional</td><td>Caterpillar Inc.</td></tr><tr><th>23</th><td>Regional</td><td>CDW Computer Store</td></tr><tr><th>24</th><td>Regional</td><td>Conception to Reality, Inc. - Westminster, CO</td></tr><tr><th>25</th><td>Regional</td><td>Essendant</td></tr><tr><th>26</th><td>Regional</td><td>Generac Corp</td></tr><tr><th>27</th><td>Regional</td><td>General Mills</td></tr><tr><th>28</th><td>Regional</td><td>Handi-Foil</td></tr><tr><th>29</th><td>Regional</td><td>Kellwood</td></tr><tr><th>30</th><td>Regional</td><td>Kimberly Clark USA</td></tr><tr><th>&vellip;</th><td>&vellip;</td><td>&vellip;</td></tr></tbody></table><p>&vellip;</p><p><i>Last Group (9 rows): Channel = \"Walmart\"</i></p><table class=\"data-frame\"><thead><tr><th></th><th>Exec Notes</th><th>Customer</th><th>Description</th><th>Project</th><th>Sell</th></tr><tr><th></th><th>String?</th><th>String</th><th>String?</th><th>Int64?</th><th>Float64</th></tr></thead><tbody><tr><th>1</th><td>Global</td><td>Walmart</td><td>Sam's Club - DFW3</td><td>150171</td><td>1.43</td></tr><tr><th>2</th><td>Global</td><td>Walmart</td><td>WAL-MART - 07 (FY2021) PPS1 Retrofit Smalls</td><td><em>missing</em></td><td>20.0</td></tr><tr><th>3</th><td>Global</td><td>Walmart</td><td>WAL-MART - 11 (FY2021) PPS2 Retrofit Smalls</td><td><em>missing</em></td><td>20.0</td></tr><tr><th>4</th><td>Global</td><td>Walmart</td><td>Walmart 7006 - Receiving System</td><td>147785</td><td>5.1</td></tr><tr><th>5</th><td>Global</td><td>Walmart</td><td>Walmart - MFC Placeholder</td><td>148611</td><td>5.0</td></tr><tr><th>6</th><td>Global</td><td>Walmart</td><td>Sam's Club - LAX</td><td>150814</td><td>2.5</td></tr><tr><th>7</th><td>Global</td><td>Walmart</td><td>Walmart Sortable DC</td><td>146136</td><td>225.0</td></tr><tr><th>8</th><td>Global</td><td>Walmart</td><td>Walmart - Grocery Placeholder</td><td><em>missing</em></td><td>75.0</td></tr><tr><th>9</th><td>Global</td><td>Walmart</td><td>Walmart Gen 3 Sortable DC POC</td><td>149384</td><td>5.5</td></tr></tbody></table>"
      ],
      "text/latex": [
       "GroupedDataFrame with 12 groups based on key: Channel\n",
       "\n",
       "First Group (60 rows): Channel = \"Midwest\"\n",
       "\n",
       "\\begin{tabular}{r|ccc}\n",
       "\t& Exec Notes & Customer & \\\\\n",
       "\t\\hline\n",
       "\t& String? & String & \\\\\n",
       "\t\\hline\n",
       "\t1 & Regional & Ace Hardware & $\\dots$ \\\\\n",
       "\t2 & Regional & Essity & $\\dots$ \\\\\n",
       "\t3 & Regional & Kimberly Clark USA & $\\dots$ \\\\\n",
       "\t4 & \\emph{missing} & Kimberly Clark USA & $\\dots$ \\\\\n",
       "\t5 & working through MSA, to be finished by Aug 6 & Kimberly Clark USA & $\\dots$ \\\\\n",
       "\t6 & Regional & Kimberly Clark USA & $\\dots$ \\\\\n",
       "\t7 & Regional & Molex Incorporated & $\\dots$ \\\\\n",
       "\t8 & Regional & Reyes Holding & $\\dots$ \\\\\n",
       "\t9 & Regional & TJX Companies & $\\dots$ \\\\\n",
       "\t10 & Regional & Walgreens & $\\dots$ \\\\\n",
       "\t11 & Regional & Premium Waters & $\\dots$ \\\\\n",
       "\t12 & Regional & Grainger & $\\dots$ \\\\\n",
       "\t13 & Regional & Kimberly Clark USA & $\\dots$ \\\\\n",
       "\t14 & Regional & Inpres Inc & $\\dots$ \\\\\n",
       "\t15 & Regional & Kimberly Clark USA & $\\dots$ \\\\\n",
       "\t16 & Regional & Lowes Companies USA & $\\dots$ \\\\\n",
       "\t17 & Regional & Reyes Holding & $\\dots$ \\\\\n",
       "\t18 & Regional & Reyes Holding & $\\dots$ \\\\\n",
       "\t19 & Regional & Reyes Holding & $\\dots$ \\\\\n",
       "\t20 & Regional & Walgreens & $\\dots$ \\\\\n",
       "\t21 & Regional & 3M Company & $\\dots$ \\\\\n",
       "\t22 & Regional & Caterpillar Inc. & $\\dots$ \\\\\n",
       "\t23 & Regional & CDW Computer Store & $\\dots$ \\\\\n",
       "\t24 & Regional & Conception to Reality, Inc. - Westminster, CO & $\\dots$ \\\\\n",
       "\t25 & Regional & Essendant & $\\dots$ \\\\\n",
       "\t26 & Regional & Generac Corp & $\\dots$ \\\\\n",
       "\t27 & Regional & General Mills & $\\dots$ \\\\\n",
       "\t28 & Regional & Handi-Foil & $\\dots$ \\\\\n",
       "\t29 & Regional & Kellwood & $\\dots$ \\\\\n",
       "\t30 & Regional & Kimberly Clark USA & $\\dots$ \\\\\n",
       "\t$\\dots$ & $\\dots$ & $\\dots$ &  \\\\\n",
       "\\end{tabular}\n",
       "\n",
       "$\\dots$\n",
       "\n",
       "Last Group (9 rows): Channel = \"Walmart\"\n",
       "\n",
       "\\begin{tabular}{r|cccccc}\n",
       "\t& Exec Notes & Customer & Description & Project & Sell & \\\\\n",
       "\t\\hline\n",
       "\t& String? & String & String? & Int64? & Float64 & \\\\\n",
       "\t\\hline\n",
       "\t1 & Global & Walmart & Sam's Club - DFW3 & 150171 & 1.43 & $\\dots$ \\\\\n",
       "\t2 & Global & Walmart & WAL-MART - 07 (FY2021) PPS1 Retrofit Smalls & \\emph{missing} & 20.0 & $\\dots$ \\\\\n",
       "\t3 & Global & Walmart & WAL-MART - 11 (FY2021) PPS2 Retrofit Smalls & \\emph{missing} & 20.0 & $\\dots$ \\\\\n",
       "\t4 & Global & Walmart & Walmart 7006 - Receiving System & 147785 & 5.1 & $\\dots$ \\\\\n",
       "\t5 & Global & Walmart & Walmart - MFC Placeholder & 148611 & 5.0 & $\\dots$ \\\\\n",
       "\t6 & Global & Walmart & Sam's Club - LAX & 150814 & 2.5 & $\\dots$ \\\\\n",
       "\t7 & Global & Walmart & Walmart Sortable DC & 146136 & 225.0 & $\\dots$ \\\\\n",
       "\t8 & Global & Walmart & Walmart - Grocery Placeholder & \\emph{missing} & 75.0 & $\\dots$ \\\\\n",
       "\t9 & Global & Walmart & Walmart Gen 3 Sortable DC POC & 149384 & 5.5 & $\\dots$ \\\\\n",
       "\\end{tabular}\n"
      ],
      "text/plain": [
       "GroupedDataFrame with 12 groups based on key: Channel\n",
       "First Group (60 rows): Channel = \"Midwest\". Omitted printing of 17 columns\n",
       "│ Row │ Exec Notes                                   │\n",
       "│     │ \u001b[90mUnion{Missing, String}\u001b[39m                       │\n",
       "├─────┼──────────────────────────────────────────────┤\n",
       "│ 1   │ Regional                                     │\n",
       "│ 2   │ Regional                                     │\n",
       "│ 3   │ Regional                                     │\n",
       "│ 4   │ \u001b[90mmissing\u001b[39m                                      │\n",
       "│ 5   │ working through MSA, to be finished by Aug 6 │\n",
       "│ 6   │ Regional                                     │\n",
       "│ 7   │ Regional                                     │\n",
       "│ 8   │ Regional                                     │\n",
       "│ 9   │ Regional                                     │\n",
       "│ 10  │ Regional                                     │\n",
       "⋮\n",
       "│ 50  │ Regional                                     │\n",
       "│ 51  │ Regional                                     │\n",
       "│ 52  │ Regional                                     │\n",
       "│ 53  │ Regional                                     │\n",
       "│ 54  │ Regional                                     │\n",
       "│ 55  │ Regional                                     │\n",
       "│ 56  │ Regional                                     │\n",
       "│ 57  │ Regional                                     │\n",
       "│ 58  │ Regional                                     │\n",
       "│ 59  │ Regional                                     │\n",
       "│ 60  │ Regional                                     │\n",
       "⋮\n",
       "Last Group (9 rows): Channel = \"Walmart\". Omitted printing of 15 columns\n",
       "│ Row │ Exec Notes │ Customer │ Description                                 │\n",
       "│     │ \u001b[90mString?\u001b[39m    │ \u001b[90mString\u001b[39m   │ \u001b[90mUnion{Missing, String}\u001b[39m                      │\n",
       "├─────┼────────────┼──────────┼─────────────────────────────────────────────┤\n",
       "│ 1   │ Global     │ Walmart  │ Sam's Club - DFW3                           │\n",
       "│ 2   │ Global     │ Walmart  │ WAL-MART - 07 (FY2021) PPS1 Retrofit Smalls │\n",
       "│ 3   │ Global     │ Walmart  │ WAL-MART - 11 (FY2021) PPS2 Retrofit Smalls │\n",
       "│ 4   │ Global     │ Walmart  │ Walmart 7006 - Receiving System             │\n",
       "│ 5   │ Global     │ Walmart  │ Walmart - MFC Placeholder                   │\n",
       "│ 6   │ Global     │ Walmart  │ Sam's Club - LAX                            │\n",
       "│ 7   │ Global     │ Walmart  │ Walmart Sortable DC                         │\n",
       "│ 8   │ Global     │ Walmart  │ Walmart - Grocery Placeholder               │\n",
       "│ 9   │ Global     │ Walmart  │ Walmart Gen 3 Sortable DC POC               │"
      ]
     },
     "execution_count": 24,
     "metadata": {},
     "output_type": "execute_result"
    }
   ],
   "source": [
    "channels"
   ]
  },
  {
   "cell_type": "code",
   "execution_count": 26,
   "metadata": {},
   "outputs": [
    {
     "data": {
      "text/html": [
       "<table class=\"data-frame\"><thead><tr><th></th><th>Channel</th><th>Sell_sum</th></tr><tr><th></th><th>String</th><th>Float64</th></tr></thead><tbody><p>12 rows × 2 columns</p><tr><th>1</th><td>Midwest</td><td>260.34</td></tr><tr><th>2</th><td>Amazon</td><td>575.16</td></tr><tr><th>3</th><td>Southern</td><td>380.17</td></tr><tr><th>4</th><td>Southwest</td><td>116.5</td></tr><tr><th>5</th><td>Eastern</td><td>372.15</td></tr><tr><th>6</th><td>Canada</td><td>161.81</td></tr><tr><th>7</th><td>Mexico</td><td>148.59</td></tr><tr><th>8</th><td>Distributor</td><td>53.06</td></tr><tr><th>9</th><td>Frito Lay</td><td>186.89</td></tr><tr><th>10</th><td>Western</td><td>357.5</td></tr><tr><th>11</th><td>Central</td><td>292.08</td></tr><tr><th>12</th><td>Walmart</td><td>359.53</td></tr></tbody></table>"
      ],
      "text/latex": [
       "\\begin{tabular}{r|cc}\n",
       "\t& Channel & Sell\\_sum\\\\\n",
       "\t\\hline\n",
       "\t& String & Float64\\\\\n",
       "\t\\hline\n",
       "\t1 & Midwest & 260.34 \\\\\n",
       "\t2 & Amazon & 575.16 \\\\\n",
       "\t3 & Southern & 380.17 \\\\\n",
       "\t4 & Southwest & 116.5 \\\\\n",
       "\t5 & Eastern & 372.15 \\\\\n",
       "\t6 & Canada & 161.81 \\\\\n",
       "\t7 & Mexico & 148.59 \\\\\n",
       "\t8 & Distributor & 53.06 \\\\\n",
       "\t9 & Frito Lay & 186.89 \\\\\n",
       "\t10 & Western & 357.5 \\\\\n",
       "\t11 & Central & 292.08 \\\\\n",
       "\t12 & Walmart & 359.53 \\\\\n",
       "\\end{tabular}\n"
      ],
      "text/plain": [
       "12×2 DataFrame\n",
       "│ Row │ Channel     │ Sell_sum │\n",
       "│     │ \u001b[90mString\u001b[39m      │ \u001b[90mFloat64\u001b[39m  │\n",
       "├─────┼─────────────┼──────────┤\n",
       "│ 1   │ Midwest     │ 260.34   │\n",
       "│ 2   │ Amazon      │ 575.16   │\n",
       "│ 3   │ Southern    │ 380.17   │\n",
       "│ 4   │ Southwest   │ 116.5    │\n",
       "│ 5   │ Eastern     │ 372.15   │\n",
       "│ 6   │ Canada      │ 161.81   │\n",
       "│ 7   │ Mexico      │ 148.59   │\n",
       "│ 8   │ Distributor │ 53.06    │\n",
       "│ 9   │ Frito Lay   │ 186.89   │\n",
       "│ 10  │ Western     │ 357.5    │\n",
       "│ 11  │ Central     │ 292.08   │\n",
       "│ 12  │ Walmart     │ 359.53   │"
      ]
     },
     "execution_count": 26,
     "metadata": {},
     "output_type": "execute_result"
    }
   ],
   "source": [
    "combine(channels, :Sell => sum)"
   ]
  },
  {
   "cell_type": "code",
   "execution_count": 2,
   "metadata": {},
   "outputs": [],
   "source": [
    "import Pluto"
   ]
  },
  {
   "cell_type": "code",
   "execution_count": null,
   "metadata": {},
   "outputs": [
    {
     "name": "stdout",
     "output_type": "stream",
     "text": [
      "Opening http://localhost:1234/ in your default browser... ~ have fun!\n",
      "\n",
      "Press Ctrl+C in this terminal to stop Pluto\n",
      "\n"
     ]
    },
    {
     "name": "stderr",
     "output_type": "stream",
     "text": [
      "TaskFailedException:\n",
      "\u001b[91mcannot assign a value to variable IJulia.ans from module Main\u001b[39m\n",
      "Stacktrace:\n",
      " [1] top-level scope at \u001b[1mC:\\Users\\junqueg\\.julia\\packages\\Pluto\\upwxH\\src\\analysis\\Parse.jl:114\u001b[22m\n",
      " [2] \u001b[1meval\u001b[22m at \u001b[1m.\\boot.jl:331\u001b[22m [inlined]\n",
      " [3] \u001b[1m(::Distributed.var\"#153#154\"{Module,Expr})\u001b[22m\u001b[1m(\u001b[22m\u001b[1m)\u001b[22m at \u001b[1m.\\task.jl:358\u001b[22mTaskFailedException:\n",
      "\u001b[91mcannot assign a value to variable IJulia.ans from module Main\u001b[39m\n",
      "Stacktrace:\n",
      " [1] top-level scope at \u001b[1mC:\\Users\\junqueg\\.julia\\packages\\Pluto\\upwxH\\src\\analysis\\Parse.jl:114\u001b[22m\n",
      " [2] \u001b[1meval\u001b[22m at \u001b[1m.\\boot.jl:331\u001b[22m [inlined]\n",
      " [3] \u001b[1m(::Distributed.var\"#153#154\"{Module,Expr})\u001b[22m\u001b[1m(\u001b[22m\u001b[1m)\u001b[22m at \u001b[1m.\\task.jl:358\u001b[22mTaskFailedException:\n",
      "\u001b[91mcannot assign a value to variable IJulia.ans from module Main\u001b[39m\n",
      "Stacktrace:\n",
      " [1] top-level scope at \u001b[1mC:\\Users\\junqueg\\.julia\\packages\\Pluto\\upwxH\\src\\analysis\\Parse.jl:114\u001b[22m\n",
      " [2] \u001b[1meval\u001b[22m at \u001b[1m.\\boot.jl:331\u001b[22m [inlined]\n",
      " [3] \u001b[1m(::Distributed.var\"#153#154\"{Module,Expr})\u001b[22m\u001b[1m(\u001b[22m\u001b[1m)\u001b[22m at \u001b[1m.\\task.jl:358\u001b[22mTaskFailedException:\n",
      "\u001b[91mcannot assign a value to variable IJulia.ans from module Main\u001b[39m\n",
      "Stacktrace:\n",
      " [1] top-level scope at \u001b[1mC:\\Users\\junqueg\\.julia\\packages\\Pluto\\upwxH\\src\\analysis\\Parse.jl:114\u001b[22m\n",
      " [2] \u001b[1meval\u001b[22m at \u001b[1m.\\boot.jl:331\u001b[22m [inlined]\n",
      " [3] \u001b[1m(::Distributed.var\"#153#154\"{Module,Expr})\u001b[22m\u001b[1m(\u001b[22m\u001b[1m)\u001b[22m at \u001b[1m.\\task.jl:358\u001b[22mTaskFailedException:\n",
      "\u001b[91mcannot assign a value to variable IJulia.ans from module Main\u001b[39m\n",
      "Stacktrace:\n",
      " [1] top-level scope at \u001b[1mC:\\Users\\junqueg\\.julia\\packages\\Pluto\\upwxH\\src\\analysis\\Parse.jl:114\u001b[22m\n",
      " [2] \u001b[1meval\u001b[22m at \u001b[1m.\\boot.jl:331\u001b[22m [inlined]\n",
      " [3] \u001b[1m(::Distributed.var\"#153#154\"{Module,Expr})\u001b[22m\u001b[1m(\u001b[22m\u001b[1m)\u001b[22m at \u001b[1m.\\task.jl:358\u001b[22mTaskFailedException:\n",
      "\u001b[91mcannot assign a value to variable IJulia.ans from module Main\u001b[39m\n",
      "Stacktrace:\n",
      " [1] top-level scope at \u001b[1mC:\\Users\\junqueg\\.julia\\packages\\Pluto\\upwxH\\src\\analysis\\Parse.jl:114\u001b[22m\n",
      " [2] \u001b[1meval\u001b[22m at \u001b[1m.\\boot.jl:331\u001b[22m [inlined]\n",
      " [3] \u001b[1m(::Distributed.var\"#153#154\"{Module,Expr})\u001b[22m\u001b[1m(\u001b[22m\u001b[1m)\u001b[22m at \u001b[1m.\\task.jl:358\u001b[22mTaskFailedException:\n",
      "\u001b[91mcannot assign a value to variable IJulia.ans from module Main\u001b[39m\n",
      "Stacktrace:\n",
      " [1] top-level scope at \u001b[1mC:\\Users\\junqueg\\.julia\\packages\\Pluto\\upwxH\\src\\analysis\\Parse.jl:114\u001b[22m\n",
      " [2] \u001b[1meval\u001b[22m at \u001b[1m.\\boot.jl:331\u001b[22m [inlined]\n",
      " [3] \u001b[1m(::Distributed.var\"#153#154\"{Module,Expr})\u001b[22m\u001b[1m(\u001b[22m\u001b[1m)\u001b[22m at \u001b[1m.\\task.jl:358\u001b[22mTaskFailedException:\n",
      "\u001b[91mcannot assign a value to variable IJulia.ans from module Main\u001b[39m\n",
      "Stacktrace:\n",
      " [1] top-level scope at \u001b[1mC:\\Users\\junqueg\\.julia\\packages\\Pluto\\upwxH\\src\\analysis\\Parse.jl:114\u001b[22m\n",
      " [2] \u001b[1meval\u001b[22m at \u001b[1m.\\boot.jl:331\u001b[22m [inlined]\n",
      " [3] \u001b[1m(::Distributed.var\"#153#154\"{Module,Expr})\u001b[22m\u001b[1m(\u001b[22m\u001b[1m)\u001b[22m at \u001b[1m.\\task.jl:358\u001b[22mTaskFailedException:\n",
      "\u001b[91mcannot assign a value to variable IJulia.ans from module Main\u001b[39m\n",
      "Stacktrace:\n",
      " [1] top-level scope at \u001b[1mC:\\Users\\junqueg\\.julia\\packages\\Pluto\\upwxH\\src\\analysis\\Parse.jl:114\u001b[22m\n",
      " [2] \u001b[1meval\u001b[22m at \u001b[1m.\\boot.jl:331\u001b[22m [inlined]\n",
      " [3] \u001b[1m(::Distributed.var\"#153#154\"{Module,Expr})\u001b[22m\u001b[1m(\u001b[22m\u001b[1m)\u001b[22m at \u001b[1m.\\task.jl:358\u001b[22mTaskFailedException:\n",
      "\u001b[91mcannot assign a value to variable IJulia.ans from module Main\u001b[39m\n",
      "Stacktrace:\n",
      " [1] top-level scope at \u001b[1mC:\\Users\\junqueg\\.julia\\packages\\Pluto\\upwxH\\src\\analysis\\Parse.jl:114\u001b[22m\n",
      " [2] \u001b[1meval\u001b[22m at \u001b[1m.\\boot.jl:331\u001b[22m [inlined]\n",
      " [3] \u001b[1m(::Distributed.var\"#153#154\"{Module,Expr})\u001b[22m\u001b[1m(\u001b[22m\u001b[1m)\u001b[22m at \u001b[1m.\\task.jl:358\u001b[22mTaskFailedException:\n",
      "\u001b[91mcannot assign a value to variable IJulia.ans from module Main\u001b[39m\n",
      "Stacktrace:\n",
      " [1] top-level scope at \u001b[1mC:\\Users\\junqueg\\.julia\\packages\\Pluto\\upwxH\\src\\analysis\\Parse.jl:114\u001b[22m\n",
      " [2] \u001b[1meval\u001b[22m at \u001b[1m.\\boot.jl:331\u001b[22m [inlined]\n",
      " [3] \u001b[1m(::Distributed.var\"#153#154\"{Module,Expr})\u001b[22m\u001b[1m(\u001b[22m\u001b[1m)\u001b[22m at \u001b[1m.\\task.jl:358\u001b[22mTaskFailedException:\n",
      "\u001b[91mcannot assign a value to variable IJulia.ans from module Main\u001b[39m\n",
      "Stacktrace:\n",
      " [1] top-level scope at \u001b[1mC:\\Users\\junqueg\\.julia\\packages\\Pluto\\upwxH\\src\\analysis\\Parse.jl:114\u001b[22m\n",
      " [2] \u001b[1meval\u001b[22m at \u001b[1m.\\boot.jl:331\u001b[22m [inlined]\n",
      " [3] \u001b[1m(::Distributed.var\"#153#154\"{Module,Expr})\u001b[22m\u001b[1m(\u001b[22m\u001b[1m)\u001b[22m at \u001b[1m.\\task.jl:358\u001b[22mTaskFailedException:\n",
      "\u001b[91mcannot assign a value to variable IJulia.ans from module Main\u001b[39m\n",
      "Stacktrace:\n",
      " [1] top-level scope at \u001b[1mC:\\Users\\junqueg\\.julia\\packages\\Pluto\\upwxH\\src\\analysis\\Parse.jl:114\u001b[22m\n",
      " [2] \u001b[1meval\u001b[22m at \u001b[1m.\\boot.jl:331\u001b[22m [inlined]\n",
      " [3] \u001b[1m(::Distributed.var\"#153#154\"{Module,Expr})\u001b[22m\u001b[1m(\u001b[22m\u001b[1m)\u001b[22m at \u001b[1m.\\task.jl:358\u001b[22mTaskFailedException:\n",
      "\u001b[91mcannot assign a value to variable IJulia.ans from module Main\u001b[39m\n",
      "Stacktrace:\n",
      " [1] top-level scope at \u001b[1mC:\\Users\\junqueg\\.julia\\packages\\Pluto\\upwxH\\src\\analysis\\Parse.jl:114\u001b[22m\n",
      " [2] \u001b[1meval\u001b[22m at \u001b[1m.\\boot.jl:331\u001b[22m [inlined]\n",
      " [3] \u001b[1m(::Distributed.var\"#153#154\"{Module,Expr})\u001b[22m\u001b[1m(\u001b[22m\u001b[1m)\u001b[22m at \u001b[1m.\\task.jl:358\u001b[22mTaskFailedException:\n",
      "\u001b[91mcannot assign a value to variable IJulia.ans from module Main\u001b[39m\n",
      "Stacktrace:\n",
      " [1] top-level scope at \u001b[1mC:\\Users\\junqueg\\.julia\\packages\\Pluto\\upwxH\\src\\analysis\\Parse.jl:114\u001b[22m\n",
      " [2] \u001b[1meval\u001b[22m at \u001b[1m.\\boot.jl:331\u001b[22m [inlined]\n",
      " [3] \u001b[1m(::Distributed.var\"#153#154\"{Module,Expr})\u001b[22m\u001b[1m(\u001b[22m\u001b[1m)\u001b[22m at \u001b[1m.\\task.jl:358\u001b[22mTaskFailedException:\n",
      "\u001b[91mcannot assign a value to variable IJulia.ans from module Main\u001b[39m\n",
      "Stacktrace:\n",
      " [1] top-level scope at \u001b[1mC:\\Users\\junqueg\\.julia\\packages\\Pluto\\upwxH\\src\\analysis\\Parse.jl:114\u001b[22m\n",
      " [2] \u001b[1meval\u001b[22m at \u001b[1m.\\boot.jl:331\u001b[22m [inlined]\n",
      " [3] \u001b[1m(::Distributed.var\"#153#154\"{Module,Expr})\u001b[22m\u001b[1m(\u001b[22m\u001b[1m)\u001b[22m at \u001b[1m.\\task.jl:358\u001b[22mTaskFailedException:\n",
      "\u001b[91mcannot assign a value to variable IJulia.ans from module Main\u001b[39m\n",
      "Stacktrace:\n",
      " [1] top-level scope at \u001b[1mC:\\Users\\junqueg\\.julia\\packages\\Pluto\\upwxH\\src\\analysis\\Parse.jl:114\u001b[22m\n",
      " [2] \u001b[1meval\u001b[22m at \u001b[1m.\\boot.jl:331\u001b[22m [inlined]\n",
      " [3] \u001b[1m(::Distributed.var\"#153#154\"{Module,Expr})\u001b[22m\u001b[1m(\u001b[22m\u001b[1m)\u001b[22m at \u001b[1m.\\task.jl:358\u001b[22m"
     ]
    }
   ],
   "source": [
    "Pluto.run()"
   ]
  },
  {
   "cell_type": "code",
   "execution_count": null,
   "metadata": {},
   "outputs": [],
   "source": []
  }
 ],
 "metadata": {
  "kernelspec": {
   "display_name": "Julia 1.4.1",
   "language": "julia",
   "name": "julia-1.4"
  },
  "language_info": {
   "file_extension": ".jl",
   "mimetype": "application/julia",
   "name": "julia",
   "version": "1.4.1"
  }
 },
 "nbformat": 4,
 "nbformat_minor": 4
}
